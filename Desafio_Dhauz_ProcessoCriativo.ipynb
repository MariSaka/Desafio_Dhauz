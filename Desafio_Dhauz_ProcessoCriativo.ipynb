{
 "cells": [
  {
   "cell_type": "code",
   "execution_count": null,
   "id": "d336e629",
   "metadata": {},
   "outputs": [],
   "source": [
    "import matplotlib.pyplot as plt\n",
    "import pandas as pd\n",
    "import numpy as np"
   ]
  },
  {
   "cell_type": "code",
   "execution_count": null,
   "id": "d12f308c",
   "metadata": {},
   "outputs": [],
   "source": [
    "df = pd.read_csv(\"cancellation_prediction.csv\")\n",
    "df"
   ]
  },
  {
   "cell_type": "code",
   "execution_count": null,
   "id": "20a863bd",
   "metadata": {
    "scrolled": true
   },
   "outputs": [],
   "source": [
    "df.info()"
   ]
  },
  {
   "cell_type": "markdown",
   "id": "ee599b41",
   "metadata": {},
   "source": [
    "#análise exploratória"
   ]
  },
  {
   "cell_type": "code",
   "execution_count": null,
   "id": "74ed0330",
   "metadata": {},
   "outputs": [],
   "source": [
    "df['cancellation'].unique()"
   ]
  },
  {
   "cell_type": "code",
   "execution_count": null,
   "id": "be8fca95",
   "metadata": {},
   "outputs": [],
   "source": [
    "### Correlação entre cancelamentos e tipo de hospedagem\n",
    "df['type'].unique()"
   ]
  },
  {
   "cell_type": "code",
   "execution_count": null,
   "id": "7347f116",
   "metadata": {
    "scrolled": true
   },
   "outputs": [],
   "source": [
    "df.loc[(df['type'] == 'Fancy Hotel') & (df['cancellation'] == 0)]"
   ]
  },
  {
   "cell_type": "code",
   "execution_count": null,
   "id": "a331167a",
   "metadata": {
    "scrolled": true
   },
   "outputs": [],
   "source": [
    "df.loc[(df['type'] == 'Fancy Hotel') & (df['cancellation'] == 1)]"
   ]
  },
  {
   "cell_type": "code",
   "execution_count": null,
   "id": "68547b90",
   "metadata": {
    "scrolled": true
   },
   "outputs": [],
   "source": [
    "df.loc[(df['type'] == 'Hotel') & (df['cancellation'] == 0)]"
   ]
  },
  {
   "cell_type": "code",
   "execution_count": null,
   "id": "a1e89944",
   "metadata": {
    "scrolled": true
   },
   "outputs": [],
   "source": [
    "df.loc[(df['type'] == 'Hotel') & (df['cancellation'] == 1)]"
   ]
  },
  {
   "cell_type": "code",
   "execution_count": null,
   "id": "06227c2e",
   "metadata": {},
   "outputs": [],
   "source": [
    "# data from https://allisonhorst.github.io/palmerpenguins/\n",
    "\n",
    "types = (\n",
    "    \"Fancy Hotel\",\n",
    "    \"Hotel\",\n",
    ")\n",
    "cancellations = {\n",
    "    \"zero\": np.array([28938, 46228]),\n",
    "    \"one\": np.array([11122, 33102]),\n",
    "}\n",
    "width = 0.5\n",
    "\n",
    "fig, ax = plt.subplots()\n",
    "bottom = np.zeros(2)\n",
    "\n",
    "for boolean, cancellation in cancellations.items():\n",
    "    p = ax.bar(types, cancellation, width, label=boolean, bottom=bottom)\n",
    "    bottom += cancellation\n",
    "\n",
    "ax.set_title(\"#pensar na legenda\")\n",
    "ax.legend(loc=\"upper right\")\n",
    "\n",
    "plt.show()"
   ]
  },
  {
   "cell_type": "code",
   "execution_count": null,
   "id": "ef9101d0",
   "metadata": {},
   "outputs": [],
   "source": []
  },
  {
   "cell_type": "code",
   "execution_count": null,
   "id": "f11b741b",
   "metadata": {},
   "outputs": [],
   "source": [
    "#\n",
    "df['num_weekend_nights'].unique()"
   ]
  },
  {
   "cell_type": "code",
   "execution_count": null,
   "id": "f1fef423",
   "metadata": {
    "scrolled": true
   },
   "outputs": [],
   "source": [
    "#\n",
    "df['num_workweek_nights'].unique()"
   ]
  },
  {
   "cell_type": "code",
   "execution_count": null,
   "id": "75015466",
   "metadata": {},
   "outputs": [],
   "source": []
  },
  {
   "cell_type": "code",
   "execution_count": null,
   "id": "0c2b23fc",
   "metadata": {},
   "outputs": [],
   "source": [
    "# data from https://allisonhorst.github.io/palmerpenguins/\n",
    "\n",
    "num_adults = (\n",
    "    \"0\",\n",
    "    \"1\",\n",
    "    \"2\",\n",
    "    \"3\",\n",
    "    \"4\",\n",
    "    \"5\",\n",
    "    \"6\",\n",
    "    \"10\",\n",
    "    \"20\",\n",
    "    \"26\",\n",
    "    \"27\",\n",
    "    \"40\",\n",
    "    \"50\",\n",
    "    \"55\",\n",
    ")\n",
    "cancellations = {\n",
    "    \"zero\": np.array([294, 16353, 54422, 4051, 46, 0, 0, 0, 0, 0, 0, 0, 0, 0,]),\n",
    "    \"one\": np.array([109, 6674, 35258, 2151, 16, 2, 1, 1, 2, 5, 2, 1, 1, 1,]),\n",
    "}\n",
    "width = 0.5\n",
    "\n",
    "fig, ax = plt.subplots()\n",
    "bottom = np.zeros(14)\n",
    "\n",
    "for boolean, cancellation in cancellations.items():\n",
    "    p = ax.bar(num_adults, cancellation, width, label=boolean, bottom=bottom)\n",
    "    bottom += cancellation\n",
    "\n",
    "ax.set_title(\"#pensar na legenda\")\n",
    "ax.legend(loc=\"upper right\")\n",
    "\n",
    "plt.show()"
   ]
  },
  {
   "cell_type": "code",
   "execution_count": null,
   "id": "d2a84e73",
   "metadata": {},
   "outputs": [],
   "source": [
    "##\n",
    "np.sort(df['num_adults'].unique())"
   ]
  },
  {
   "cell_type": "code",
   "execution_count": null,
   "id": "43a181c6",
   "metadata": {
    "scrolled": true
   },
   "outputs": [],
   "source": [
    "len(df.loc[(df['num_adults'] == 0) & (df['cancellation'] == 1)].index)"
   ]
  },
  {
   "cell_type": "code",
   "execution_count": null,
   "id": "ee713071",
   "metadata": {},
   "outputs": [],
   "source": [
    "len(df.loc[(df['num_adults'] == 1) & (df['cancellation'] == 1)].index)"
   ]
  },
  {
   "cell_type": "code",
   "execution_count": null,
   "id": "bc089362",
   "metadata": {},
   "outputs": [],
   "source": [
    "len(df.loc[(df['num_adults'] == 2) & (df['cancellation'] == 1)].index)"
   ]
  },
  {
   "cell_type": "code",
   "execution_count": null,
   "id": "47978428",
   "metadata": {},
   "outputs": [],
   "source": [
    "len(df.loc[(df['num_adults'] == 3) & (df['cancellation'] == 1)].index)"
   ]
  },
  {
   "cell_type": "code",
   "execution_count": null,
   "id": "dffff986",
   "metadata": {},
   "outputs": [],
   "source": [
    "len(df.loc[(df['num_adults'] == 4) & (df['cancellation'] == 1)].index)"
   ]
  },
  {
   "cell_type": "code",
   "execution_count": null,
   "id": "13c05c66",
   "metadata": {},
   "outputs": [],
   "source": [
    "len(df.loc[(df['num_adults'] == 5) & (df['cancellation'] == 1)].index)"
   ]
  },
  {
   "cell_type": "code",
   "execution_count": null,
   "id": "c74d54ea",
   "metadata": {},
   "outputs": [],
   "source": [
    "len(df.loc[(df['num_adults'] == 6) & (df['cancellation'] == 1)].index)"
   ]
  },
  {
   "cell_type": "code",
   "execution_count": null,
   "id": "6ba1abfd",
   "metadata": {},
   "outputs": [],
   "source": [
    "len(df.loc[(df['num_adults'] == 10) & (df['cancellation'] == 1)].index)"
   ]
  },
  {
   "cell_type": "code",
   "execution_count": null,
   "id": "02c63f9d",
   "metadata": {},
   "outputs": [],
   "source": [
    "len(df.loc[(df['num_adults'] == 20) & (df['cancellation'] == 1)].index)"
   ]
  },
  {
   "cell_type": "code",
   "execution_count": null,
   "id": "aabe6431",
   "metadata": {},
   "outputs": [],
   "source": [
    "len(df.loc[(df['num_adults'] == 26) & (df['cancellation'] == 1)].index)"
   ]
  },
  {
   "cell_type": "code",
   "execution_count": null,
   "id": "da89e17c",
   "metadata": {},
   "outputs": [],
   "source": [
    "len(df.loc[(df['num_adults'] == 27) & (df['cancellation'] == 1)].index)"
   ]
  },
  {
   "cell_type": "code",
   "execution_count": null,
   "id": "69f53505",
   "metadata": {},
   "outputs": [],
   "source": [
    "len(df.loc[(df['num_adults'] == 40) & (df['cancellation'] == 1)].index)"
   ]
  },
  {
   "cell_type": "code",
   "execution_count": null,
   "id": "9fe0bc7f",
   "metadata": {},
   "outputs": [],
   "source": [
    "len(df.loc[(df['num_adults'] == 50) & (df['cancellation'] == 1)].index)"
   ]
  },
  {
   "cell_type": "code",
   "execution_count": null,
   "id": "46deb50f",
   "metadata": {},
   "outputs": [],
   "source": [
    "len(df.loc[(df['num_adults'] == 55) & (df['cancellation'] == 1)].index)"
   ]
  },
  {
   "cell_type": "code",
   "execution_count": null,
   "id": "b4871d08",
   "metadata": {},
   "outputs": [],
   "source": []
  },
  {
   "cell_type": "code",
   "execution_count": null,
   "id": "0dcd9cda",
   "metadata": {},
   "outputs": [],
   "source": [
    "##\n",
    "df['num_children'].unique()"
   ]
  },
  {
   "cell_type": "code",
   "execution_count": null,
   "id": "3c9623e0",
   "metadata": {},
   "outputs": [],
   "source": [
    "len(df.loc[(df['num_children'] == 0) & (df['cancellation'] == 1)].index)"
   ]
  },
  {
   "cell_type": "code",
   "execution_count": null,
   "id": "3c3a5865",
   "metadata": {},
   "outputs": [],
   "source": [
    "len(df.loc[(df['num_children'] == 1) & (df['cancellation'] == 1)].index)"
   ]
  },
  {
   "cell_type": "code",
   "execution_count": null,
   "id": "db4b67f5",
   "metadata": {},
   "outputs": [],
   "source": [
    "len(df.loc[(df['num_children'] == 2) & (df['cancellation'] == 1)].index)"
   ]
  },
  {
   "cell_type": "code",
   "execution_count": null,
   "id": "2c4229a9",
   "metadata": {},
   "outputs": [],
   "source": [
    "len(df.loc[(df['num_children'] == 3) & (df['cancellation'] == 1)].index)"
   ]
  },
  {
   "cell_type": "code",
   "execution_count": null,
   "id": "1865b025",
   "metadata": {},
   "outputs": [],
   "source": [
    "len(df.loc[(df['num_children'] == 10) & (df['cancellation'] == 1)].index)"
   ]
  },
  {
   "cell_type": "code",
   "execution_count": null,
   "id": "d5e19d63",
   "metadata": {},
   "outputs": [],
   "source": [
    "# data from https://allisonhorst.github.io/palmerpenguins/\n",
    "\n",
    "num_children = (\n",
    "    \"0\",\n",
    "    \"1\",\n",
    "    \"2\",\n",
    "    \"3\",\n",
    "    \"10\",\n",
    ")\n",
    "cancellations = {\n",
    "    \"zero\": np.array([69702, 3294, 2111, 59, 0,]),\n",
    "    \"one\": np.array([41094, 1567, 1541, 17, 1,]),\n",
    "}\n",
    "width = 0.5\n",
    "\n",
    "fig, ax = plt.subplots()\n",
    "bottom = np.zeros(5)\n",
    "\n",
    "for boolean, cancellation in cancellations.items():\n",
    "    p = ax.bar(num_children, cancellation, width, label=boolean, bottom=bottom)\n",
    "    bottom += cancellation\n",
    "\n",
    "ax.set_title(\"#pensar na legenda\")\n",
    "ax.legend(loc=\"upper right\")\n",
    "\n",
    "plt.show()"
   ]
  },
  {
   "cell_type": "code",
   "execution_count": null,
   "id": "14d37997",
   "metadata": {},
   "outputs": [],
   "source": []
  },
  {
   "cell_type": "code",
   "execution_count": null,
   "id": "1d243a5c",
   "metadata": {},
   "outputs": [],
   "source": []
  },
  {
   "cell_type": "code",
   "execution_count": null,
   "id": "288090d9",
   "metadata": {
    "scrolled": true
   },
   "outputs": [],
   "source": [
    "##\n",
    "df['num_babies'].unique()"
   ]
  },
  {
   "cell_type": "code",
   "execution_count": null,
   "id": "d784e0b0",
   "metadata": {
    "scrolled": true
   },
   "outputs": [],
   "source": [
    "len(df.loc[(df['num_babies'] == 0) & (df['cancellation'] == 1)].index)"
   ]
  },
  {
   "cell_type": "code",
   "execution_count": null,
   "id": "033dc66b",
   "metadata": {},
   "outputs": [],
   "source": [
    "len(df.loc[(df['num_babies'] == 1) & (df['cancellation'] == 1)].index)"
   ]
  },
  {
   "cell_type": "code",
   "execution_count": null,
   "id": "c5b5c84d",
   "metadata": {},
   "outputs": [],
   "source": [
    "len(df.loc[(df['num_babies'] == 2) & (df['cancellation'] == 1)].index)"
   ]
  },
  {
   "cell_type": "code",
   "execution_count": null,
   "id": "7d032ec5",
   "metadata": {},
   "outputs": [],
   "source": [
    "len(df.loc[(df['num_babies'] == 9) & (df['cancellation'] == 1)].index)"
   ]
  },
  {
   "cell_type": "code",
   "execution_count": null,
   "id": "2774f357",
   "metadata": {},
   "outputs": [],
   "source": [
    "len(df.loc[(df['num_babies'] == 10) & (df['cancellation'] == 1)].index)"
   ]
  },
  {
   "cell_type": "code",
   "execution_count": null,
   "id": "c53f4278",
   "metadata": {},
   "outputs": [],
   "source": [
    "# data from https://allisonhorst.github.io/palmerpenguins/\n",
    "\n",
    "num_babies = (\n",
    "    \"0\",\n",
    "    \"1\",\n",
    "    \"2\",\n",
    "    \"9\",\n",
    "    \"10\",\n",
    ")\n",
    "cancellations = {\n",
    "    \"zero\": np.array([74416, 735, 13, 1, 1,]),\n",
    "    \"one\": np.array([44057, 165, 2, 0, 0,]),\n",
    "}\n",
    "width = 0.5\n",
    "\n",
    "fig, ax = plt.subplots()\n",
    "bottom = np.zeros(5)\n",
    "\n",
    "for boolean, cancellation in cancellations.items():\n",
    "    p = ax.bar(num_babies, cancellation, width, label=boolean, bottom=bottom)\n",
    "    bottom += cancellation\n",
    "\n",
    "ax.set_title(\"#pensar na legenda\")\n",
    "ax.legend(loc=\"upper right\")\n",
    "\n",
    "plt.show()"
   ]
  },
  {
   "cell_type": "code",
   "execution_count": null,
   "id": "b626e7b5",
   "metadata": {},
   "outputs": [],
   "source": []
  },
  {
   "cell_type": "code",
   "execution_count": null,
   "id": "afc1022e",
   "metadata": {},
   "outputs": [],
   "source": []
  },
  {
   "cell_type": "code",
   "execution_count": null,
   "id": "92ebf4f7",
   "metadata": {},
   "outputs": [],
   "source": [
    "###\n",
    "df['breakfast'].unique()"
   ]
  },
  {
   "cell_type": "code",
   "execution_count": null,
   "id": "9ac046c2",
   "metadata": {},
   "outputs": [],
   "source": [
    "df.loc[(df['breakfast'] == True) & (df['cancellation'] == 0)]"
   ]
  },
  {
   "cell_type": "code",
   "execution_count": null,
   "id": "fc106721",
   "metadata": {},
   "outputs": [],
   "source": [
    "df.loc[(df['breakfast'] == False) & (df['cancellation'] == 0)]"
   ]
  },
  {
   "cell_type": "code",
   "execution_count": null,
   "id": "11df0f2b",
   "metadata": {},
   "outputs": [],
   "source": [
    "df.loc[(df['breakfast'] == True) & (df['cancellation'] == 1)]"
   ]
  },
  {
   "cell_type": "code",
   "execution_count": null,
   "id": "139c0dc4",
   "metadata": {},
   "outputs": [],
   "source": [
    "df.loc[(df['breakfast'] == False) & (df['cancellation'] == 1)]"
   ]
  },
  {
   "cell_type": "code",
   "execution_count": null,
   "id": "9ae87ad6",
   "metadata": {},
   "outputs": [],
   "source": [
    "# data from https://allisonhorst.github.io/palmerpenguins/\n",
    "\n",
    "breakfast = (\n",
    "    \"True\",\n",
    "    \"False\",\n",
    ")\n",
    "cancellations = {\n",
    "    \"zero\": np.array([57800 , 17366 ]),\n",
    "    \"one\": np.array([34510 , 9714 ]),\n",
    "}\n",
    "width = 0.5\n",
    "\n",
    "fig, ax = plt.subplots()\n",
    "bottom = np.zeros(2)\n",
    "\n",
    "for boolean, cancellation in cancellations.items():\n",
    "    p = ax.bar(breakfast, cancellation, width, label=boolean, bottom=bottom)\n",
    "    bottom += cancellation\n",
    "\n",
    "ax.set_title(\"#pensar na legenda\")\n",
    "ax.legend(loc=\"upper right\")\n",
    "\n",
    "plt.show()"
   ]
  },
  {
   "cell_type": "code",
   "execution_count": null,
   "id": "b2e752d7",
   "metadata": {},
   "outputs": [],
   "source": []
  },
  {
   "cell_type": "code",
   "execution_count": null,
   "id": "175461bb",
   "metadata": {},
   "outputs": [],
   "source": []
  },
  {
   "cell_type": "code",
   "execution_count": null,
   "id": "91f45377",
   "metadata": {},
   "outputs": [],
   "source": [
    "#?\n",
    "df['country'].unique()"
   ]
  },
  {
   "cell_type": "code",
   "execution_count": null,
   "id": "e3c116f4",
   "metadata": {},
   "outputs": [],
   "source": [
    "#\n",
    "df['market_segment'].unique()"
   ]
  },
  {
   "cell_type": "code",
   "execution_count": null,
   "id": "58ba9edc",
   "metadata": {},
   "outputs": [],
   "source": [
    "#\n",
    "df['distribution_channel'].unique()"
   ]
  },
  {
   "cell_type": "code",
   "execution_count": null,
   "id": "db656e92",
   "metadata": {},
   "outputs": [],
   "source": [
    "##\n",
    "df['repeated_guest'].unique()"
   ]
  },
  {
   "cell_type": "code",
   "execution_count": null,
   "id": "08a729d9",
   "metadata": {},
   "outputs": [],
   "source": [
    "###\n",
    "df['num_previous_cancellations'].unique()"
   ]
  },
  {
   "cell_type": "code",
   "execution_count": null,
   "id": "c4be385e",
   "metadata": {},
   "outputs": [],
   "source": [
    "##\n",
    "df['num_previous_stays'].unique()"
   ]
  },
  {
   "cell_type": "code",
   "execution_count": null,
   "id": "9a303c56",
   "metadata": {},
   "outputs": [],
   "source": [
    "#\n",
    "df['reserved_room'].unique()"
   ]
  },
  {
   "cell_type": "code",
   "execution_count": null,
   "id": "7ad5e5da",
   "metadata": {},
   "outputs": [],
   "source": [
    "##?\n",
    "df['changes_between_booking_arrival'].unique()"
   ]
  },
  {
   "cell_type": "code",
   "execution_count": null,
   "id": "36fca8d1",
   "metadata": {},
   "outputs": [],
   "source": [
    "###\n",
    "df['deposit_policy'].unique()"
   ]
  },
  {
   "cell_type": "code",
   "execution_count": null,
   "id": "525e3365",
   "metadata": {},
   "outputs": [],
   "source": [
    "df.loc[(df['deposit_policy'] == 'No Deposit') & (df['cancellation'] == 0)]"
   ]
  },
  {
   "cell_type": "code",
   "execution_count": null,
   "id": "a3092cab",
   "metadata": {},
   "outputs": [],
   "source": [
    "df.loc[(df['deposit_policy'] == 'Refundable') & (df['cancellation'] == 0)]"
   ]
  },
  {
   "cell_type": "code",
   "execution_count": null,
   "id": "c0b32ab5",
   "metadata": {},
   "outputs": [],
   "source": [
    "df.loc[(df['deposit_policy'] == 'Non Refund') & (df['cancellation'] == 0)]"
   ]
  },
  {
   "cell_type": "code",
   "execution_count": null,
   "id": "ccb271f4",
   "metadata": {},
   "outputs": [],
   "source": [
    "df.loc[(df['deposit_policy'] == 'No Deposit') & (df['cancellation'] == 1)]"
   ]
  },
  {
   "cell_type": "code",
   "execution_count": null,
   "id": "aa91075c",
   "metadata": {},
   "outputs": [],
   "source": [
    "df.loc[(df['deposit_policy'] == 'Refundable') & (df['cancellation'] == 1)]"
   ]
  },
  {
   "cell_type": "code",
   "execution_count": null,
   "id": "434cbafa",
   "metadata": {},
   "outputs": [],
   "source": [
    "df.loc[(df['deposit_policy'] == 'Non Refund') & (df['cancellation'] == 1)]"
   ]
  },
  {
   "cell_type": "code",
   "execution_count": null,
   "id": "9b2e6e4d",
   "metadata": {},
   "outputs": [],
   "source": [
    "# data from https://allisonhorst.github.io/palmerpenguins/\n",
    "\n",
    "deposit_policy = (\n",
    "    'No Deposit', 'Refundable', 'Non Refund',\n",
    ")\n",
    "cancellations = {\n",
    "    \"zero\": np.array([74947 , 126 , 93]),\n",
    "    \"one\": np.array([29694 , 36 , 14494 ]),\n",
    "}\n",
    "width = 0.5\n",
    "\n",
    "fig, ax = plt.subplots()\n",
    "bottom = np.zeros(3)\n",
    "\n",
    "for boolean, cancellation in cancellations.items():\n",
    "    p = ax.bar(deposit_policy, cancellation, width, label=boolean, bottom=bottom)\n",
    "    bottom += cancellation\n",
    "\n",
    "ax.set_title(\"#pensar na legenda\")\n",
    "ax.legend(loc=\"upper right\")\n",
    "\n",
    "plt.show()"
   ]
  },
  {
   "cell_type": "code",
   "execution_count": null,
   "id": "f414cd70",
   "metadata": {},
   "outputs": [],
   "source": []
  },
  {
   "cell_type": "code",
   "execution_count": null,
   "id": "06644ab3",
   "metadata": {
    "scrolled": true
   },
   "outputs": [],
   "source": [
    "df['id_travel_agency_booking'].unique() "
   ]
  },
  {
   "cell_type": "code",
   "execution_count": null,
   "id": "8f43d341",
   "metadata": {
    "scrolled": true
   },
   "outputs": [],
   "source": [
    "df['id_person_booking'].unique()  "
   ]
  },
  {
   "cell_type": "code",
   "execution_count": null,
   "id": "abd9c8a3",
   "metadata": {},
   "outputs": [],
   "source": [
    "#?\n",
    "df['customer_type'].unique()  "
   ]
  },
  {
   "cell_type": "code",
   "execution_count": null,
   "id": "bfcec85b",
   "metadata": {},
   "outputs": [],
   "source": [
    "###?\n",
    "df['avg_price'].unique() "
   ]
  },
  {
   "cell_type": "code",
   "execution_count": null,
   "id": "503471b5",
   "metadata": {},
   "outputs": [],
   "source": [
    "##\n",
    "df['required_car_parking_spaces'].unique() "
   ]
  },
  {
   "cell_type": "code",
   "execution_count": null,
   "id": "96cb8b55",
   "metadata": {},
   "outputs": [],
   "source": [
    "#\n",
    "df['total_of_special_requests'].unique() "
   ]
  },
  {
   "cell_type": "markdown",
   "id": "63f0664e",
   "metadata": {},
   "source": [
    "#Tatamento de dados"
   ]
  },
  {
   "cell_type": "code",
   "execution_count": null,
   "id": "0d7bc4d5",
   "metadata": {},
   "outputs": [],
   "source": [
    "df = pd.read_csv(\"cancellation_prediction.csv\")\n",
    "df"
   ]
  },
  {
   "cell_type": "code",
   "execution_count": null,
   "id": "d657f741",
   "metadata": {
    "scrolled": false
   },
   "outputs": [],
   "source": [
    "#transformar Dtype object em int64\n",
    "df.info()\n",
    "# type, month_arrival_date, breakfast, country, reserved_room, deposit_policy, "
   ]
  },
  {
   "cell_type": "code",
   "execution_count": null,
   "id": "9f587b86",
   "metadata": {},
   "outputs": [],
   "source": [
    "df['type'].unique()"
   ]
  },
  {
   "cell_type": "code",
   "execution_count": null,
   "id": "6469b1d4",
   "metadata": {},
   "outputs": [],
   "source": [
    "df['month_arrival_date'].unique()"
   ]
  },
  {
   "cell_type": "code",
   "execution_count": null,
   "id": "eabb7faf",
   "metadata": {},
   "outputs": [],
   "source": [
    "df['breakfast'].unique()"
   ]
  },
  {
   "cell_type": "code",
   "execution_count": null,
   "id": "535f13c6",
   "metadata": {},
   "outputs": [],
   "source": [
    "df['country'].unique()"
   ]
  },
  {
   "cell_type": "code",
   "execution_count": null,
   "id": "b89e93de",
   "metadata": {},
   "outputs": [],
   "source": [
    "df['reserved_room'].unique()"
   ]
  },
  {
   "cell_type": "code",
   "execution_count": null,
   "id": "8489fc7a",
   "metadata": {},
   "outputs": [],
   "source": [
    "df['deposit_policy'].unique()"
   ]
  },
  {
   "cell_type": "code",
   "execution_count": null,
   "id": "c4ddc765",
   "metadata": {},
   "outputs": [],
   "source": [
    "df['deposit_policy'] = df['deposit_policy'].map({'No Deposit': 0, 'Refundable' : 1, 'Non Refund' : 2})\n",
    "df"
   ]
  },
  {
   "cell_type": "code",
   "execution_count": null,
   "id": "97c55cf2",
   "metadata": {},
   "outputs": [],
   "source": [
    "df['month_arrival_date'] = df['month_arrival_date'].map({\n",
    "    'January' : 1, \n",
    "    'February' : 2, \n",
    "    'March' : 3, \n",
    "    'April' : 4, \n",
    "    'May' : 5, \n",
    "    'June' : 6,\n",
    "    'July' : 7, \n",
    "    'August' : 8, \n",
    "    'September' : 9, \n",
    "    'October' : 10, \n",
    "    'November' : 11, \n",
    "    'December' : 12,   \n",
    "})\n",
    "df"
   ]
  },
  {
   "cell_type": "code",
   "execution_count": null,
   "id": "bec880bb",
   "metadata": {},
   "outputs": [],
   "source": [
    "#transformação manual\n",
    "df['type'] = df['type'].map({'Hotel': 0, 'ancy Hotel' : 1})\n",
    "df['breakfast'] = df['breakfast'].map({True : 0, False : 1})\n",
    "df['deposit_policy'] = df['deposit_policy'].map({'No Deposit': 0, \n",
    "                                                 'Refundable' : 1, \n",
    "                                                 'Non Refund' : 2})\n",
    "df['month_arrival_date'] = df['month_arrival_date'].map({\n",
    "                                                    'January' : 1, \n",
    "                                                    'February' : 2, \n",
    "                                                    'March' : 3, \n",
    "                                                    'April' : 4, \n",
    "                                                    'May' : 5, \n",
    "                                                    'June' : 6,\n",
    "                                                    'July' : 7, \n",
    "                                                    'August' : 8, \n",
    "                                                    'September' : 9, \n",
    "                                                    'October' : 10, \n",
    "                                                    'November' : 11, \n",
    "                                                    'December' : 12,   \n",
    "})\n",
    "df_map_transform = df\n",
    "df_map_transform"
   ]
  },
  {
   "cell_type": "code",
   "execution_count": null,
   "id": "eca51c0a",
   "metadata": {},
   "outputs": [],
   "source": [
    "#Transformação get_dummie\n",
    "data_dummie = pd.get_dummies(df_map_transform.drop(['type', \n",
    "                                      'cancellation', \n",
    "                                      'days_between_booking_arrival',\n",
    "                                     'year_arrival_date',\n",
    "                                     'week_number_arrival_date',\n",
    "                                     'day_of_month_arrival_date',\n",
    "                                     'num_weekend_nights',\n",
    "                                     'num_workweek_nights',\n",
    "                                     'num_adults',\n",
    "                                     'num_children',\n",
    "                                     'num_babies',\n",
    "                                     'breakfast',\n",
    "                                     'market_segment',\n",
    "                                     'distribution_channel',\n",
    "                                     'repeated_guest',\n",
    "                                     'num_previous_cancellations',\n",
    "                                     'num_previous_stays',\n",
    "                                     'changes_between_booking_arrival',\n",
    "                                     'deposit_policy',\n",
    "                                     'id_travel_agency_booking',\n",
    "                                     'id_person_booking',\n",
    "                                     'customer_type',\n",
    "                                     'avg_price',\n",
    "                                     'required_car_parking_spaces',\n",
    "                                     'total_of_special_requests'], axis = 1))\n",
    "\n",
    "df_get_dummies = pd.concat([df_map_transform, data_dummie], axis = 1)\n",
    "df_get_dummies"
   ]
  },
  {
   "cell_type": "code",
   "execution_count": null,
   "id": "db975313",
   "metadata": {},
   "outputs": [],
   "source": [
    "data_dummie"
   ]
  },
  {
   "cell_type": "code",
   "execution_count": null,
   "id": "191f99e4",
   "metadata": {},
   "outputs": [],
   "source": [
    "data_drop = df_map_transform.drop(['type', \n",
    "                                      'cancellation', \n",
    "                                      'days_between_booking_arrival',\n",
    "                                     'year_arrival_date',\n",
    "                                     'month_arrival_date',\n",
    "                                     'week_number_arrival_date',\n",
    "                                     'day_of_month_arrival_date',\n",
    "                                     'num_weekend_nights',\n",
    "                                     'num_workweek_nights',\n",
    "                                     'num_adults',\n",
    "                                     'num_children',\n",
    "                                     'num_babies',\n",
    "                                     'breakfast',\n",
    "                                     'market_segment',\n",
    "                                     'distribution_channel',\n",
    "                                     'repeated_guest',\n",
    "                                     'num_previous_cancellations',\n",
    "                                     'num_previous_stays',\n",
    "                                     'changes_between_booking_arrival',\n",
    "                                     'deposit_policy',\n",
    "                                     'id_travel_agency_booking',\n",
    "                                     'id_person_booking',\n",
    "                                     'customer_type',\n",
    "                                     'avg_price',\n",
    "                                     'required_car_parking_spaces',\n",
    "                                     'total_of_special_requests'], axis = 1)\n",
    "data_drop"
   ]
  },
  {
   "cell_type": "code",
   "execution_count": null,
   "id": "10e3b25a",
   "metadata": {},
   "outputs": [],
   "source": [
    "Transform_dummies = pd.get_dummies(df_map_transform.drop(['type', \n",
    "                                      'cancellation', \n",
    "                                      'days_between_booking_arrival',\n",
    "                                     'year_arrival_date',\n",
    "                                     'month_arrival_date',\n",
    "                                     'week_number_arrival_date',\n",
    "                                     'day_of_month_arrival_date',\n",
    "                                     'num_weekend_nights',\n",
    "                                     'num_workweek_nights',\n",
    "                                     'num_adults',\n",
    "                                     'num_children',\n",
    "                                     'num_babies',\n",
    "                                     'breakfast',\n",
    "                                     'market_segment',\n",
    "                                     'distribution_channel',\n",
    "                                     'repeated_guest',\n",
    "                                     'num_previous_cancellations',\n",
    "                                     'num_previous_stays',\n",
    "                                     'changes_between_booking_arrival',\n",
    "                                     'deposit_policy',\n",
    "                                     'id_travel_agency_booking',\n",
    "                                     'id_person_booking',\n",
    "                                     'customer_type',\n",
    "                                     'avg_price',\n",
    "                                     'required_car_parking_spaces',\n",
    "                                     'total_of_special_requests'], axis = 1))\n",
    "df_final = pd.concat([df_map_transform,Transform_dummies], axis = 1)"
   ]
  },
  {
   "cell_type": "code",
   "execution_count": null,
   "id": "4180404a",
   "metadata": {},
   "outputs": [],
   "source": [
    "df_final"
   ]
  },
  {
   "cell_type": "code",
   "execution_count": null,
   "id": "e93ad10e",
   "metadata": {},
   "outputs": [],
   "source": []
  },
  {
   "cell_type": "code",
   "execution_count": null,
   "id": "fc7a0f09",
   "metadata": {},
   "outputs": [],
   "source": [
    "#import matplotlib.pyplot as plt\n",
    "import pandas as pd\n",
    "import numpy as np\n",
    "\n",
    "from sklearn.preprocessing import StandardScaler\n",
    "from sklearn.neighbors import KNeighborsClassifier\n",
    "from sklearn.model_selection import train_test_split\n",
    "from sklearn.naive_bayes import BernoulliNB\n",
    "from sklearn.tree import DecisionTreeClassifier\n",
    "from sklearn.metrics import confusion_matrix\n",
    "from sklearn.metrics import accuracy_score\n",
    "from sklearn.metrics import precision_score\n",
    "from sklearn.metrics import recall_score"
   ]
  },
  {
   "cell_type": "code",
   "execution_count": null,
   "id": "ef0707e1",
   "metadata": {},
   "outputs": [],
   "source": [
    "df = pd.read_csv(\"cancellation_prediction.csv\")\n",
    "#df"
   ]
  },
  {
   "cell_type": "code",
   "execution_count": null,
   "id": "3d19186c",
   "metadata": {},
   "outputs": [],
   "source": [
    "#Removendo do df as colunas que serão tratadas\n",
    "df_naive = df.drop(['type', \n",
    "                    'month_arrival_date', \n",
    "                    'breakfast', \n",
    "                    'country', \n",
    "                    'reserved_room', \n",
    "                    'deposit_policy'], axis = 1)\n",
    "#df_naive"
   ]
  },
  {
   "cell_type": "code",
   "execution_count": null,
   "id": "5e62a4d1",
   "metadata": {},
   "outputs": [],
   "source": [
    "#Transformando dtype object em int, de forma manual\n",
    "type_hotel = df['type'].map({'Hotel': 0, 'Fancy Hotel' : 1})\n",
    "month_arrival_date = df['month_arrival_date'].map({\n",
    "                                                    'January' : 1, \n",
    "                                                    'February' : 2, \n",
    "                                                    'March' : 3, \n",
    "                                                    'April' : 4, \n",
    "                                                    'May' : 5, \n",
    "                                                    'June' : 6,\n",
    "                                                    'July' : 7, \n",
    "                                                    'August' : 8, \n",
    "                                                    'September' : 9, \n",
    "                                                    'October' : 10, \n",
    "                                                    'November' : 11, \n",
    "                                                    'December' : 12,})\n",
    "breakfast = df['breakfast'].map({True : 0, False : 1})\n",
    "deposit_policy = df['deposit_policy'].map({'No Deposit': 0, \n",
    "                                                 'Refundable' : 1, \n",
    "                                                 'Non Refund' : 2})\n",
    "transform_map = pd.concat([type_hotel, month_arrival_date, breakfast, deposit_policy], axis = 1)\n",
    "#transform_map"
   ]
  },
  {
   "cell_type": "code",
   "execution_count": null,
   "id": "edb50176",
   "metadata": {},
   "outputs": [],
   "source": [
    "#transformando\n",
    "Transform_dummies = pd.get_dummies(df.drop(['type', \n",
    "                                      'cancellation', \n",
    "                                      'days_between_booking_arrival',\n",
    "                                     'year_arrival_date',\n",
    "                                     'month_arrival_date',\n",
    "                                     'week_number_arrival_date',\n",
    "                                     'day_of_month_arrival_date',\n",
    "                                     'num_weekend_nights',\n",
    "                                     'num_workweek_nights',\n",
    "                                     'num_adults',\n",
    "                                     'num_children',\n",
    "                                     'num_babies',\n",
    "                                     'breakfast',\n",
    "                                     'market_segment',\n",
    "                                     'distribution_channel',\n",
    "                                     'repeated_guest',\n",
    "                                     'num_previous_cancellations',\n",
    "                                     'num_previous_stays',\n",
    "                                     'changes_between_booking_arrival',\n",
    "                                     'deposit_policy',\n",
    "                                     'id_travel_agency_booking',\n",
    "                                     'id_person_booking',\n",
    "                                     'customer_type',\n",
    "                                     'avg_price',\n",
    "                                     'required_car_parking_spaces',\n",
    "                                     'total_of_special_requests'], axis = 1))\n",
    "#Transform_dummies"
   ]
  },
  {
   "cell_type": "code",
   "execution_count": null,
   "id": "af6cba72",
   "metadata": {},
   "outputs": [],
   "source": [
    "df_final = pd.concat([df_naive, transform_map, Transform_dummies], axis = 1)\n",
    "df_final = df_final.drop(['id_travel_agency_booking', 'id_person_booking'], axis = 1).dropna()"
   ]
  },
  {
   "cell_type": "code",
   "execution_count": null,
   "id": "1689f58b",
   "metadata": {},
   "outputs": [],
   "source": [
    "#Check Null Values\n",
    "isnull = df_final.isnull()\n",
    "isnull = isnull[isnull.sum(axis=1) > 0]\n",
    "isnull = isnull.loc[:, isnull.sum(axis=0) > 0]\n",
    "isnull"
   ]
  },
  {
   "cell_type": "code",
   "execution_count": null,
   "id": "af13f3b1",
   "metadata": {},
   "outputs": [],
   "source": [
    "#Divisão em inputs e outputs\n",
    "X = df_final.drop('cancellation', axis = 1)\n",
    "y = df_final['cancellation']"
   ]
  },
  {
   "cell_type": "code",
   "execution_count": null,
   "id": "4ad436ac",
   "metadata": {},
   "outputs": [],
   "source": [
    "norm = StandardScaler()\n",
    "x_norm = norm.fit_transform(X)"
   ]
  },
  {
   "cell_type": "code",
   "execution_count": null,
   "id": "52aacd25",
   "metadata": {},
   "outputs": [],
   "source": [
    "NewData = df_final.iloc[[1234]]\n",
    "new = NewData.drop(['cancellation'],axis=1)\n",
    "NewData_norm = norm.transform(pd.DataFrame(NewData, columns = X.columns))\n",
    "#NewData_norm"
   ]
  },
  {
   "cell_type": "code",
   "execution_count": null,
   "id": "81408b1b",
   "metadata": {},
   "outputs": [],
   "source": [
    "X_train, X_test, y_train, y_test = train_test_split(x_norm, y, test_size=0.3,random_state = 123)"
   ]
  },
  {
   "cell_type": "markdown",
   "id": "5892170c",
   "metadata": {},
   "source": [
    "Montando treino-texte separado por ano"
   ]
  },
  {
   "cell_type": "code",
   "execution_count": null,
   "id": "228ad6b5",
   "metadata": {},
   "outputs": [],
   "source": [
    "df_2015 = df_final.loc[df_final['year_arrival_date'] == 2015]"
   ]
  },
  {
   "cell_type": "code",
   "execution_count": null,
   "id": "dabeb147",
   "metadata": {},
   "outputs": [],
   "source": [
    "df_2016 = df_final.loc[df_final['year_arrival_date'] == 2016]"
   ]
  },
  {
   "cell_type": "code",
   "execution_count": null,
   "id": "03522e9d",
   "metadata": {},
   "outputs": [],
   "source": [
    "df_2017 = df_final.loc[df_final['year_arrival_date'] == 2017]"
   ]
  },
  {
   "cell_type": "code",
   "execution_count": null,
   "id": "306daf63",
   "metadata": {},
   "outputs": [],
   "source": [
    "df_16_17 = pd.concat([df_2015, df_2016], axis = 0)\n",
    "#Divisão em inputs e outputs\n",
    "X = df_16_17.drop('cancellation', axis = 1)\n",
    "y = df_2017['cancellation']"
   ]
  },
  {
   "cell_type": "markdown",
   "id": "f5f28acf",
   "metadata": {},
   "source": [
    "treino teste"
   ]
  },
  {
   "cell_type": "code",
   "execution_count": null,
   "id": "5d6fc166",
   "metadata": {},
   "outputs": [],
   "source": [
    "knn = KNeighborsClassifier(metric='euclidean')"
   ]
  },
  {
   "cell_type": "code",
   "execution_count": null,
   "id": "42dde199",
   "metadata": {},
   "outputs": [],
   "source": [
    "knn.fit(X_train, y_train)"
   ]
  },
  {
   "cell_type": "code",
   "execution_count": null,
   "id": "cd9910f6",
   "metadata": {},
   "outputs": [],
   "source": [
    "predicit_knn = knn.predict(X_test)"
   ]
  },
  {
   "cell_type": "code",
   "execution_count": null,
   "id": "e4c4e915",
   "metadata": {
    "scrolled": true
   },
   "outputs": [],
   "source": [
    "predicit_knn"
   ]
  },
  {
   "cell_type": "code",
   "execution_count": null,
   "id": "ec1705c0",
   "metadata": {},
   "outputs": [],
   "source": [
    "np.median(X_train)"
   ]
  },
  {
   "cell_type": "code",
   "execution_count": null,
   "id": "8060a944",
   "metadata": {},
   "outputs": [],
   "source": [
    "bnb = BernoulliNB(binarize = 0.01)"
   ]
  },
  {
   "cell_type": "code",
   "execution_count": null,
   "id": "00de0cc9",
   "metadata": {},
   "outputs": [],
   "source": [
    "bnb.fit(X_train, y_train)"
   ]
  },
  {
   "cell_type": "code",
   "execution_count": null,
   "id": "045c490b",
   "metadata": {},
   "outputs": [],
   "source": [
    "predict_bnb = bnb.predict(X_test)"
   ]
  },
  {
   "cell_type": "code",
   "execution_count": null,
   "id": "4d7bb0ca",
   "metadata": {},
   "outputs": [],
   "source": [
    "predict_bnb"
   ]
  },
  {
   "cell_type": "code",
   "execution_count": null,
   "id": "1b433944",
   "metadata": {},
   "outputs": [],
   "source": []
  },
  {
   "cell_type": "code",
   "execution_count": null,
   "id": "cc7a1a3a",
   "metadata": {},
   "outputs": [],
   "source": [
    "dtc= DecisionTreeClassifier(criterion='entropy', random_state=42)"
   ]
  },
  {
   "cell_type": "code",
   "execution_count": null,
   "id": "d5b02730",
   "metadata": {},
   "outputs": [],
   "source": [
    "dtc.fit(X_train, y_train)"
   ]
  },
  {
   "cell_type": "code",
   "execution_count": null,
   "id": "26bb0c37",
   "metadata": {
    "scrolled": true
   },
   "outputs": [],
   "source": [
    "dtc.feature_importances_"
   ]
  },
  {
   "cell_type": "code",
   "execution_count": null,
   "id": "9fd88d3b",
   "metadata": {},
   "outputs": [],
   "source": [
    "predict_dtc = dtc.predict(X_test)\n",
    "predict_dtc"
   ]
  },
  {
   "cell_type": "code",
   "execution_count": null,
   "id": "0b91409f",
   "metadata": {},
   "outputs": [],
   "source": []
  },
  {
   "cell_type": "code",
   "execution_count": null,
   "id": "a9d34f61",
   "metadata": {},
   "outputs": [],
   "source": [
    "#matriz de confusão"
   ]
  },
  {
   "cell_type": "code",
   "execution_count": null,
   "id": "91318448",
   "metadata": {},
   "outputs": [],
   "source": [
    "print(confusion_matrix(y_test, predicit_knn))"
   ]
  },
  {
   "cell_type": "code",
   "execution_count": null,
   "id": "a8539825",
   "metadata": {},
   "outputs": [],
   "source": [
    "print(confusion_matrix(y_test, predict_bnb))"
   ]
  },
  {
   "cell_type": "code",
   "execution_count": null,
   "id": "65a71da5",
   "metadata": {
    "scrolled": true
   },
   "outputs": [],
   "source": [
    "print(confusion_matrix(y_test, predict_dtc)) #melhor modelo para clasificar"
   ]
  },
  {
   "cell_type": "code",
   "execution_count": null,
   "id": "793f6a72",
   "metadata": {},
   "outputs": [],
   "source": [
    "#acuracia"
   ]
  },
  {
   "cell_type": "code",
   "execution_count": null,
   "id": "60b014d4",
   "metadata": {},
   "outputs": [],
   "source": [
    "print(accuracy_score(y_test, predicit_knn))"
   ]
  },
  {
   "cell_type": "code",
   "execution_count": null,
   "id": "dc609222",
   "metadata": {},
   "outputs": [],
   "source": [
    "print(accuracy_score(y_test, predict_bnb))"
   ]
  },
  {
   "cell_type": "code",
   "execution_count": null,
   "id": "8c69d14b",
   "metadata": {},
   "outputs": [],
   "source": [
    "print(accuracy_score(y_test, predict_dtc)) #melhor modelo para clasificar"
   ]
  },
  {
   "cell_type": "code",
   "execution_count": null,
   "id": "9d91d073",
   "metadata": {},
   "outputs": [],
   "source": [
    "#precisão"
   ]
  },
  {
   "cell_type": "code",
   "execution_count": null,
   "id": "3f612cde",
   "metadata": {},
   "outputs": [],
   "source": [
    "print(precision_score(y_test, predicit_knn))"
   ]
  },
  {
   "cell_type": "code",
   "execution_count": null,
   "id": "35002642",
   "metadata": {},
   "outputs": [],
   "source": [
    "print(precision_score(y_test, predict_bnb)) #melhor modelo para clasificar"
   ]
  },
  {
   "cell_type": "code",
   "execution_count": null,
   "id": "1322893f",
   "metadata": {},
   "outputs": [],
   "source": [
    "print(precision_score(y_test, predict_dtc))"
   ]
  },
  {
   "cell_type": "code",
   "execution_count": null,
   "id": "1878ed70",
   "metadata": {},
   "outputs": [],
   "source": [
    "#Recall"
   ]
  },
  {
   "cell_type": "code",
   "execution_count": null,
   "id": "bafec107",
   "metadata": {},
   "outputs": [],
   "source": [
    "print(recall_score(y_test, predicit_knn))"
   ]
  },
  {
   "cell_type": "code",
   "execution_count": null,
   "id": "6a445302",
   "metadata": {},
   "outputs": [],
   "source": [
    "print(recall_score(y_test, predict_bnb))"
   ]
  },
  {
   "cell_type": "code",
   "execution_count": null,
   "id": "743e9cb7",
   "metadata": {},
   "outputs": [],
   "source": [
    "print(recall_score(y_test, predict_dtc)) #melhor modelo para clasificar"
   ]
  },
  {
   "cell_type": "code",
   "execution_count": null,
   "id": "296709f5",
   "metadata": {},
   "outputs": [],
   "source": []
  }
 ],
 "metadata": {
  "kernelspec": {
   "display_name": "Python 3 (ipykernel)",
   "language": "python",
   "name": "python3"
  },
  "language_info": {
   "codemirror_mode": {
    "name": "ipython",
    "version": 3
   },
   "file_extension": ".py",
   "mimetype": "text/x-python",
   "name": "python",
   "nbconvert_exporter": "python",
   "pygments_lexer": "ipython3",
   "version": "3.10.9"
  }
 },
 "nbformat": 4,
 "nbformat_minor": 5
}
