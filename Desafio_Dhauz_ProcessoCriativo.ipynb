{
 "cells": [
  {
   "cell_type": "code",
   "execution_count": null,
   "id": "d336e629",
   "metadata": {},
   "outputs": [],
   "source": [
    "import matplotlib.pyplot as plt\n",
    "import pandas as pd\n",
    "import numpy as np"
   ]
  },
  {
   "cell_type": "code",
   "execution_count": null,
   "id": "d12f308c",
   "metadata": {},
   "outputs": [],
   "source": [
    "df = pd.read_csv(\"cancellation_prediction.csv\")\n",
    "df"
   ]
  },
  {
   "cell_type": "code",
   "execution_count": null,
   "id": "20a863bd",
   "metadata": {
    "scrolled": true
   },
   "outputs": [],
   "source": [
    "df.info()"
   ]
  },
  {
   "cell_type": "markdown",
   "id": "fa2eb615",
   "metadata": {},
   "source": [
    "#análise exploratória"
   ]
  },
  {
   "cell_type": "code",
   "execution_count": null,
   "id": "74ed0330",
   "metadata": {},
   "outputs": [],
   "source": [
    "df['cancellation'].unique()"
   ]
  },
  {
   "cell_type": "code",
   "execution_count": null,
   "id": "be8fca95",
   "metadata": {},
   "outputs": [],
   "source": [
    "### Correlação entre cancelamentos e tipo de hospedagem\n",
    "df['type'].unique()"
   ]
  },
  {
   "cell_type": "code",
   "execution_count": null,
   "id": "7347f116",
   "metadata": {
    "scrolled": true
   },
   "outputs": [],
   "source": [
    "df.loc[(df['type'] == 'Fancy Hotel') & (df['cancellation'] == 0)]"
   ]
  },
  {
   "cell_type": "code",
   "execution_count": null,
   "id": "a331167a",
   "metadata": {
    "scrolled": true
   },
   "outputs": [],
   "source": [
    "df.loc[(df['type'] == 'Fancy Hotel') & (df['cancellation'] == 1)]"
   ]
  },
  {
   "cell_type": "code",
   "execution_count": null,
   "id": "68547b90",
   "metadata": {
    "scrolled": true
   },
   "outputs": [],
   "source": [
    "df.loc[(df['type'] == 'Hotel') & (df['cancellation'] == 0)]"
   ]
  },
  {
   "cell_type": "code",
   "execution_count": null,
   "id": "a1e89944",
   "metadata": {
    "scrolled": true
   },
   "outputs": [],
   "source": [
    "df.loc[(df['type'] == 'Hotel') & (df['cancellation'] == 1)]"
   ]
  },
  {
   "cell_type": "code",
   "execution_count": null,
   "id": "06227c2e",
   "metadata": {},
   "outputs": [],
   "source": [
    "# data from https://allisonhorst.github.io/palmerpenguins/\n",
    "\n",
    "types = (\n",
    "    \"Fancy Hotel\",\n",
    "    \"Hotel\",\n",
    ")\n",
    "cancellations = {\n",
    "    \"zero\": np.array([28938, 46228]),\n",
    "    \"one\": np.array([11122, 33102]),\n",
    "}\n",
    "width = 0.5\n",
    "\n",
    "fig, ax = plt.subplots()\n",
    "bottom = np.zeros(2)\n",
    "\n",
    "for boolean, cancellation in cancellations.items():\n",
    "    p = ax.bar(types, cancellation, width, label=boolean, bottom=bottom)\n",
    "    bottom += cancellation\n",
    "\n",
    "ax.set_title(\"#pensar na legenda\")\n",
    "ax.legend(loc=\"upper right\")\n",
    "\n",
    "plt.show()"
   ]
  },
  {
   "cell_type": "code",
   "execution_count": null,
   "id": "ef9101d0",
   "metadata": {},
   "outputs": [],
   "source": []
  },
  {
   "cell_type": "code",
   "execution_count": null,
   "id": "f11b741b",
   "metadata": {},
   "outputs": [],
   "source": [
    "#\n",
    "df['num_weekend_nights'].unique()"
   ]
  },
  {
   "cell_type": "code",
   "execution_count": null,
   "id": "f1fef423",
   "metadata": {
    "scrolled": true
   },
   "outputs": [],
   "source": [
    "#\n",
    "df['num_workweek_nights'].unique()"
   ]
  },
  {
   "cell_type": "code",
   "execution_count": null,
   "id": "75015466",
   "metadata": {},
   "outputs": [],
   "source": []
  },
  {
   "cell_type": "code",
   "execution_count": null,
   "id": "0c2b23fc",
   "metadata": {},
   "outputs": [],
   "source": [
    "# data from https://allisonhorst.github.io/palmerpenguins/\n",
    "\n",
    "num_adults = (\n",
    "    \"0\",\n",
    "    \"1\",\n",
    "    \"2\",\n",
    "    \"3\",\n",
    "    \"4\",\n",
    "    \"5\",\n",
    "    \"6\",\n",
    "    \"10\",\n",
    "    \"20\",\n",
    "    \"26\",\n",
    "    \"27\",\n",
    "    \"40\",\n",
    "    \"50\",\n",
    "    \"55\",\n",
    ")\n",
    "cancellations = {\n",
    "    \"zero\": np.array([294, 16353, 54422, 4051, 46, 0, 0, 0, 0, 0, 0, 0, 0, 0,]),\n",
    "    \"one\": np.array([109, 6674, 35258, 2151, 16, 2, 1, 1, 2, 5, 2, 1, 1, 1,]),\n",
    "}\n",
    "width = 0.5\n",
    "\n",
    "fig, ax = plt.subplots()\n",
    "bottom = np.zeros(14)\n",
    "\n",
    "for boolean, cancellation in cancellations.items():\n",
    "    p = ax.bar(num_adults, cancellation, width, label=boolean, bottom=bottom)\n",
    "    bottom += cancellation\n",
    "\n",
    "ax.set_title(\"#pensar na legenda\")\n",
    "ax.legend(loc=\"upper right\")\n",
    "\n",
    "plt.show()"
   ]
  },
  {
   "cell_type": "code",
   "execution_count": null,
   "id": "d2a84e73",
   "metadata": {},
   "outputs": [],
   "source": [
    "##\n",
    "np.sort(df['num_adults'].unique())"
   ]
  },
  {
   "cell_type": "code",
   "execution_count": null,
   "id": "43a181c6",
   "metadata": {
    "scrolled": true
   },
   "outputs": [],
   "source": [
    "len(df.loc[(df['num_adults'] == 0) & (df['cancellation'] == 1)].index)"
   ]
  },
  {
   "cell_type": "code",
   "execution_count": null,
   "id": "ee713071",
   "metadata": {},
   "outputs": [],
   "source": [
    "len(df.loc[(df['num_adults'] == 1) & (df['cancellation'] == 1)].index)"
   ]
  },
  {
   "cell_type": "code",
   "execution_count": null,
   "id": "bc089362",
   "metadata": {},
   "outputs": [],
   "source": [
    "len(df.loc[(df['num_adults'] == 2) & (df['cancellation'] == 1)].index)"
   ]
  },
  {
   "cell_type": "code",
   "execution_count": null,
   "id": "47978428",
   "metadata": {},
   "outputs": [],
   "source": [
    "len(df.loc[(df['num_adults'] == 3) & (df['cancellation'] == 1)].index)"
   ]
  },
  {
   "cell_type": "code",
   "execution_count": null,
   "id": "dffff986",
   "metadata": {},
   "outputs": [],
   "source": [
    "len(df.loc[(df['num_adults'] == 4) & (df['cancellation'] == 1)].index)"
   ]
  },
  {
   "cell_type": "code",
   "execution_count": null,
   "id": "13c05c66",
   "metadata": {},
   "outputs": [],
   "source": [
    "len(df.loc[(df['num_adults'] == 5) & (df['cancellation'] == 1)].index)"
   ]
  },
  {
   "cell_type": "code",
   "execution_count": null,
   "id": "c74d54ea",
   "metadata": {},
   "outputs": [],
   "source": [
    "len(df.loc[(df['num_adults'] == 6) & (df['cancellation'] == 1)].index)"
   ]
  },
  {
   "cell_type": "code",
   "execution_count": null,
   "id": "6ba1abfd",
   "metadata": {},
   "outputs": [],
   "source": [
    "len(df.loc[(df['num_adults'] == 10) & (df['cancellation'] == 1)].index)"
   ]
  },
  {
   "cell_type": "code",
   "execution_count": null,
   "id": "02c63f9d",
   "metadata": {},
   "outputs": [],
   "source": [
    "len(df.loc[(df['num_adults'] == 20) & (df['cancellation'] == 1)].index)"
   ]
  },
  {
   "cell_type": "code",
   "execution_count": null,
   "id": "aabe6431",
   "metadata": {},
   "outputs": [],
   "source": [
    "len(df.loc[(df['num_adults'] == 26) & (df['cancellation'] == 1)].index)"
   ]
  },
  {
   "cell_type": "code",
   "execution_count": null,
   "id": "da89e17c",
   "metadata": {},
   "outputs": [],
   "source": [
    "len(df.loc[(df['num_adults'] == 27) & (df['cancellation'] == 1)].index)"
   ]
  },
  {
   "cell_type": "code",
   "execution_count": null,
   "id": "69f53505",
   "metadata": {},
   "outputs": [],
   "source": [
    "len(df.loc[(df['num_adults'] == 40) & (df['cancellation'] == 1)].index)"
   ]
  },
  {
   "cell_type": "code",
   "execution_count": null,
   "id": "9fe0bc7f",
   "metadata": {},
   "outputs": [],
   "source": [
    "len(df.loc[(df['num_adults'] == 50) & (df['cancellation'] == 1)].index)"
   ]
  },
  {
   "cell_type": "code",
   "execution_count": null,
   "id": "46deb50f",
   "metadata": {},
   "outputs": [],
   "source": [
    "len(df.loc[(df['num_adults'] == 55) & (df['cancellation'] == 1)].index)"
   ]
  },
  {
   "cell_type": "code",
   "execution_count": null,
   "id": "b4871d08",
   "metadata": {},
   "outputs": [],
   "source": []
  },
  {
   "cell_type": "code",
   "execution_count": null,
   "id": "0dcd9cda",
   "metadata": {},
   "outputs": [],
   "source": [
    "##\n",
    "df['num_children'].unique()"
   ]
  },
  {
   "cell_type": "code",
   "execution_count": null,
   "id": "3c9623e0",
   "metadata": {},
   "outputs": [],
   "source": [
    "len(df.loc[(df['num_children'] == 0) & (df['cancellation'] == 1)].index)"
   ]
  },
  {
   "cell_type": "code",
   "execution_count": null,
   "id": "3c3a5865",
   "metadata": {},
   "outputs": [],
   "source": [
    "len(df.loc[(df['num_children'] == 1) & (df['cancellation'] == 1)].index)"
   ]
  },
  {
   "cell_type": "code",
   "execution_count": null,
   "id": "db4b67f5",
   "metadata": {},
   "outputs": [],
   "source": [
    "len(df.loc[(df['num_children'] == 2) & (df['cancellation'] == 1)].index)"
   ]
  },
  {
   "cell_type": "code",
   "execution_count": null,
   "id": "2c4229a9",
   "metadata": {},
   "outputs": [],
   "source": [
    "len(df.loc[(df['num_children'] == 3) & (df['cancellation'] == 1)].index)"
   ]
  },
  {
   "cell_type": "code",
   "execution_count": null,
   "id": "1865b025",
   "metadata": {},
   "outputs": [],
   "source": [
    "len(df.loc[(df['num_children'] == 10) & (df['cancellation'] == 1)].index)"
   ]
  },
  {
   "cell_type": "code",
   "execution_count": null,
   "id": "d5e19d63",
   "metadata": {},
   "outputs": [],
   "source": [
    "# data from https://allisonhorst.github.io/palmerpenguins/\n",
    "\n",
    "num_children = (\n",
    "    \"0\",\n",
    "    \"1\",\n",
    "    \"2\",\n",
    "    \"3\",\n",
    "    \"10\",\n",
    ")\n",
    "cancellations = {\n",
    "    \"zero\": np.array([69702, 3294, 2111, 59, 0,]),\n",
    "    \"one\": np.array([41094, 1567, 1541, 17, 1,]),\n",
    "}\n",
    "width = 0.5\n",
    "\n",
    "fig, ax = plt.subplots()\n",
    "bottom = np.zeros(5)\n",
    "\n",
    "for boolean, cancellation in cancellations.items():\n",
    "    p = ax.bar(num_children, cancellation, width, label=boolean, bottom=bottom)\n",
    "    bottom += cancellation\n",
    "\n",
    "ax.set_title(\"#pensar na legenda\")\n",
    "ax.legend(loc=\"upper right\")\n",
    "\n",
    "plt.show()"
   ]
  },
  {
   "cell_type": "code",
   "execution_count": null,
   "id": "14d37997",
   "metadata": {},
   "outputs": [],
   "source": []
  },
  {
   "cell_type": "code",
   "execution_count": null,
   "id": "1d243a5c",
   "metadata": {},
   "outputs": [],
   "source": []
  },
  {
   "cell_type": "code",
   "execution_count": null,
   "id": "288090d9",
   "metadata": {
    "scrolled": true
   },
   "outputs": [],
   "source": [
    "##\n",
    "df['num_babies'].unique()"
   ]
  },
  {
   "cell_type": "code",
   "execution_count": null,
   "id": "d784e0b0",
   "metadata": {
    "scrolled": true
   },
   "outputs": [],
   "source": [
    "len(df.loc[(df['num_babies'] == 0) & (df['cancellation'] == 1)].index)"
   ]
  },
  {
   "cell_type": "code",
   "execution_count": null,
   "id": "033dc66b",
   "metadata": {},
   "outputs": [],
   "source": [
    "len(df.loc[(df['num_babies'] == 1) & (df['cancellation'] == 1)].index)"
   ]
  },
  {
   "cell_type": "code",
   "execution_count": null,
   "id": "c5b5c84d",
   "metadata": {},
   "outputs": [],
   "source": [
    "len(df.loc[(df['num_babies'] == 2) & (df['cancellation'] == 1)].index)"
   ]
  },
  {
   "cell_type": "code",
   "execution_count": null,
   "id": "7d032ec5",
   "metadata": {},
   "outputs": [],
   "source": [
    "len(df.loc[(df['num_babies'] == 9) & (df['cancellation'] == 1)].index)"
   ]
  },
  {
   "cell_type": "code",
   "execution_count": null,
   "id": "2774f357",
   "metadata": {},
   "outputs": [],
   "source": [
    "len(df.loc[(df['num_babies'] == 10) & (df['cancellation'] == 1)].index)"
   ]
  },
  {
   "cell_type": "code",
   "execution_count": null,
   "id": "c53f4278",
   "metadata": {},
   "outputs": [],
   "source": [
    "# data from https://allisonhorst.github.io/palmerpenguins/\n",
    "\n",
    "num_babies = (\n",
    "    \"0\",\n",
    "    \"1\",\n",
    "    \"2\",\n",
    "    \"9\",\n",
    "    \"10\",\n",
    ")\n",
    "cancellations = {\n",
    "    \"zero\": np.array([74416, 735, 13, 1, 1,]),\n",
    "    \"one\": np.array([44057, 165, 2, 0, 0,]),\n",
    "}\n",
    "width = 0.5\n",
    "\n",
    "fig, ax = plt.subplots()\n",
    "bottom = np.zeros(5)\n",
    "\n",
    "for boolean, cancellation in cancellations.items():\n",
    "    p = ax.bar(num_babies, cancellation, width, label=boolean, bottom=bottom)\n",
    "    bottom += cancellation\n",
    "\n",
    "ax.set_title(\"#pensar na legenda\")\n",
    "ax.legend(loc=\"upper right\")\n",
    "\n",
    "plt.show()"
   ]
  },
  {
   "cell_type": "code",
   "execution_count": null,
   "id": "b626e7b5",
   "metadata": {},
   "outputs": [],
   "source": []
  },
  {
   "cell_type": "code",
   "execution_count": null,
   "id": "afc1022e",
   "metadata": {},
   "outputs": [],
   "source": []
  },
  {
   "cell_type": "code",
   "execution_count": null,
   "id": "92ebf4f7",
   "metadata": {},
   "outputs": [],
   "source": [
    "###\n",
    "df['breakfast'].unique()"
   ]
  },
  {
   "cell_type": "code",
   "execution_count": null,
   "id": "9ac046c2",
   "metadata": {},
   "outputs": [],
   "source": [
    "df.loc[(df['breakfast'] == True) & (df['cancellation'] == 0)]"
   ]
  },
  {
   "cell_type": "code",
   "execution_count": null,
   "id": "fc106721",
   "metadata": {},
   "outputs": [],
   "source": [
    "df.loc[(df['breakfast'] == False) & (df['cancellation'] == 0)]"
   ]
  },
  {
   "cell_type": "code",
   "execution_count": null,
   "id": "11df0f2b",
   "metadata": {},
   "outputs": [],
   "source": [
    "df.loc[(df['breakfast'] == True) & (df['cancellation'] == 1)]"
   ]
  },
  {
   "cell_type": "code",
   "execution_count": null,
   "id": "139c0dc4",
   "metadata": {},
   "outputs": [],
   "source": [
    "df.loc[(df['breakfast'] == False) & (df['cancellation'] == 1)]"
   ]
  },
  {
   "cell_type": "code",
   "execution_count": null,
   "id": "9ae87ad6",
   "metadata": {},
   "outputs": [],
   "source": [
    "# data from https://allisonhorst.github.io/palmerpenguins/\n",
    "\n",
    "breakfast = (\n",
    "    \"True\",\n",
    "    \"False\",\n",
    ")\n",
    "cancellations = {\n",
    "    \"zero\": np.array([57800 , 17366 ]),\n",
    "    \"one\": np.array([34510 , 9714 ]),\n",
    "}\n",
    "width = 0.5\n",
    "\n",
    "fig, ax = plt.subplots()\n",
    "bottom = np.zeros(2)\n",
    "\n",
    "for boolean, cancellation in cancellations.items():\n",
    "    p = ax.bar(breakfast, cancellation, width, label=boolean, bottom=bottom)\n",
    "    bottom += cancellation\n",
    "\n",
    "ax.set_title(\"#pensar na legenda\")\n",
    "ax.legend(loc=\"upper right\")\n",
    "\n",
    "plt.show()"
   ]
  },
  {
   "cell_type": "code",
   "execution_count": null,
   "id": "b2e752d7",
   "metadata": {},
   "outputs": [],
   "source": []
  },
  {
   "cell_type": "code",
   "execution_count": null,
   "id": "175461bb",
   "metadata": {},
   "outputs": [],
   "source": []
  },
  {
   "cell_type": "code",
   "execution_count": null,
   "id": "91f45377",
   "metadata": {},
   "outputs": [],
   "source": [
    "#?\n",
    "df['country'].unique()"
   ]
  },
  {
   "cell_type": "code",
   "execution_count": null,
   "id": "e3c116f4",
   "metadata": {},
   "outputs": [],
   "source": [
    "#\n",
    "df['market_segment'].unique()"
   ]
  },
  {
   "cell_type": "code",
   "execution_count": null,
   "id": "58ba9edc",
   "metadata": {},
   "outputs": [],
   "source": [
    "#\n",
    "df['distribution_channel'].unique()"
   ]
  },
  {
   "cell_type": "code",
   "execution_count": null,
   "id": "db656e92",
   "metadata": {},
   "outputs": [],
   "source": [
    "##\n",
    "df['repeated_guest'].unique()"
   ]
  },
  {
   "cell_type": "code",
   "execution_count": null,
   "id": "08a729d9",
   "metadata": {},
   "outputs": [],
   "source": [
    "###\n",
    "df['num_previous_cancellations'].unique()"
   ]
  },
  {
   "cell_type": "code",
   "execution_count": null,
   "id": "c4be385e",
   "metadata": {},
   "outputs": [],
   "source": [
    "##\n",
    "df['num_previous_stays'].unique()"
   ]
  },
  {
   "cell_type": "code",
   "execution_count": null,
   "id": "9a303c56",
   "metadata": {},
   "outputs": [],
   "source": [
    "#\n",
    "df['reserved_room'].unique()"
   ]
  },
  {
   "cell_type": "code",
   "execution_count": null,
   "id": "7ad5e5da",
   "metadata": {},
   "outputs": [],
   "source": [
    "##?\n",
    "df['changes_between_booking_arrival'].unique()"
   ]
  },
  {
   "cell_type": "code",
   "execution_count": null,
   "id": "36fca8d1",
   "metadata": {},
   "outputs": [],
   "source": [
    "###\n",
    "df['deposit_policy'].unique()"
   ]
  },
  {
   "cell_type": "code",
   "execution_count": null,
   "id": "525e3365",
   "metadata": {},
   "outputs": [],
   "source": [
    "df.loc[(df['deposit_policy'] == 'No Deposit') & (df['cancellation'] == 0)]"
   ]
  },
  {
   "cell_type": "code",
   "execution_count": null,
   "id": "a3092cab",
   "metadata": {},
   "outputs": [],
   "source": [
    "df.loc[(df['deposit_policy'] == 'Refundable') & (df['cancellation'] == 0)]"
   ]
  },
  {
   "cell_type": "code",
   "execution_count": null,
   "id": "c0b32ab5",
   "metadata": {},
   "outputs": [],
   "source": [
    "df.loc[(df['deposit_policy'] == 'Non Refund') & (df['cancellation'] == 0)]"
   ]
  },
  {
   "cell_type": "code",
   "execution_count": null,
   "id": "ccb271f4",
   "metadata": {},
   "outputs": [],
   "source": [
    "df.loc[(df['deposit_policy'] == 'No Deposit') & (df['cancellation'] == 1)]"
   ]
  },
  {
   "cell_type": "code",
   "execution_count": null,
   "id": "aa91075c",
   "metadata": {},
   "outputs": [],
   "source": [
    "df.loc[(df['deposit_policy'] == 'Refundable') & (df['cancellation'] == 1)]"
   ]
  },
  {
   "cell_type": "code",
   "execution_count": null,
   "id": "434cbafa",
   "metadata": {},
   "outputs": [],
   "source": [
    "df.loc[(df['deposit_policy'] == 'Non Refund') & (df['cancellation'] == 1)]"
   ]
  },
  {
   "cell_type": "code",
   "execution_count": null,
   "id": "9b2e6e4d",
   "metadata": {},
   "outputs": [],
   "source": [
    "# data from https://allisonhorst.github.io/palmerpenguins/\n",
    "\n",
    "deposit_policy = (\n",
    "    'No Deposit', 'Refundable', 'Non Refund',\n",
    ")\n",
    "cancellations = {\n",
    "    \"zero\": np.array([74947 , 126 , 93]),\n",
    "    \"one\": np.array([29694 , 36 , 14494 ]),\n",
    "}\n",
    "width = 0.5\n",
    "\n",
    "fig, ax = plt.subplots()\n",
    "bottom = np.zeros(3)\n",
    "\n",
    "for boolean, cancellation in cancellations.items():\n",
    "    p = ax.bar(deposit_policy, cancellation, width, label=boolean, bottom=bottom)\n",
    "    bottom += cancellation\n",
    "\n",
    "ax.set_title(\"#pensar na legenda\")\n",
    "ax.legend(loc=\"upper right\")\n",
    "\n",
    "plt.show()"
   ]
  },
  {
   "cell_type": "code",
   "execution_count": null,
   "id": "f414cd70",
   "metadata": {},
   "outputs": [],
   "source": []
  },
  {
   "cell_type": "code",
   "execution_count": null,
   "id": "06644ab3",
   "metadata": {
    "scrolled": true
   },
   "outputs": [],
   "source": [
    "df['id_travel_agency_booking'].unique() "
   ]
  },
  {
   "cell_type": "code",
   "execution_count": null,
   "id": "8f43d341",
   "metadata": {
    "scrolled": true
   },
   "outputs": [],
   "source": [
    "df['id_person_booking'].unique()  "
   ]
  },
  {
   "cell_type": "code",
   "execution_count": null,
   "id": "abd9c8a3",
   "metadata": {},
   "outputs": [],
   "source": [
    "#?\n",
    "df['customer_type'].unique()  "
   ]
  },
  {
   "cell_type": "code",
   "execution_count": null,
   "id": "bfcec85b",
   "metadata": {},
   "outputs": [],
   "source": [
    "###?\n",
    "df['avg_price'].unique() "
   ]
  },
  {
   "cell_type": "code",
   "execution_count": null,
   "id": "503471b5",
   "metadata": {},
   "outputs": [],
   "source": [
    "##\n",
    "df['required_car_parking_spaces'].unique() "
   ]
  },
  {
   "cell_type": "code",
   "execution_count": null,
   "id": "96cb8b55",
   "metadata": {},
   "outputs": [],
   "source": [
    "#\n",
    "df['total_of_special_requests'].unique() "
   ]
  },
  {
   "cell_type": "markdown",
   "id": "b697ae30",
   "metadata": {},
   "source": [
    "#Tatamento de dados"
   ]
  },
  {
   "cell_type": "code",
   "execution_count": null,
   "id": "496f4502",
   "metadata": {},
   "outputs": [],
   "source": [
    "df = pd.read_csv(\"cancellation_prediction.csv\")\n",
    "df"
   ]
  },
  {
   "cell_type": "code",
   "execution_count": null,
   "id": "10e1ed48",
   "metadata": {
    "scrolled": false
   },
   "outputs": [],
   "source": [
    "#transformar Dtype object em int64\n",
    "df.info()\n",
    "# type, month_arrival_date, breakfast, country, reserved_room, deposit_policy, "
   ]
  },
  {
   "cell_type": "code",
   "execution_count": null,
   "id": "20455151",
   "metadata": {},
   "outputs": [],
   "source": [
    "df['type'].unique()"
   ]
  },
  {
   "cell_type": "code",
   "execution_count": null,
   "id": "8c4aefd7",
   "metadata": {},
   "outputs": [],
   "source": [
    "df['month_arrival_date'].unique()"
   ]
  },
  {
   "cell_type": "code",
   "execution_count": null,
   "id": "dc3e6ed7",
   "metadata": {},
   "outputs": [],
   "source": [
    "df['breakfast'].unique()"
   ]
  },
  {
   "cell_type": "code",
   "execution_count": null,
   "id": "400adaae",
   "metadata": {},
   "outputs": [],
   "source": [
    "df['country'].unique()"
   ]
  },
  {
   "cell_type": "code",
   "execution_count": null,
   "id": "6f0ca270",
   "metadata": {},
   "outputs": [],
   "source": [
    "df['reserved_room'].unique()"
   ]
  },
  {
   "cell_type": "code",
   "execution_count": null,
   "id": "ecd268a8",
   "metadata": {},
   "outputs": [],
   "source": [
    "df['deposit_policy'].unique()"
   ]
  },
  {
   "cell_type": "code",
   "execution_count": null,
   "id": "51bc6f71",
   "metadata": {},
   "outputs": [],
   "source": [
    "df['deposit_policy'] = df['deposit_policy'].map({'No Deposit': 0, 'Refundable' : 1, 'Non Refund' : 2})\n",
    "df"
   ]
  },
  {
   "cell_type": "code",
   "execution_count": null,
   "id": "efd9aa9e",
   "metadata": {},
   "outputs": [],
   "source": [
    "df['month_arrival_date'] = df['month_arrival_date'].map({\n",
    "    'January' : 1, \n",
    "    'February' : 2, \n",
    "    'March' : 3, \n",
    "    'April' : 4, \n",
    "    'May' : 5, \n",
    "    'June' : 6,\n",
    "    'July' : 7, \n",
    "    'August' : 8, \n",
    "    'September' : 9, \n",
    "    'October' : 10, \n",
    "    'November' : 11, \n",
    "    'December' : 12,   \n",
    "})\n",
    "df"
   ]
  },
  {
   "cell_type": "code",
   "execution_count": null,
   "id": "1a875c46",
   "metadata": {},
   "outputs": [],
   "source": [
    "#transformação manual\n",
    "df['type'] = df['type'].map({'Hotel': 0, 'ancy Hotel' : 1})\n",
    "df['breakfast'] = df['breakfast'].map({True : 0, False : 1})\n",
    "df['deposit_policy'] = df['deposit_policy'].map({'No Deposit': 0, \n",
    "                                                 'Refundable' : 1, \n",
    "                                                 'Non Refund' : 2})\n",
    "df['month_arrival_date'] = df['month_arrival_date'].map({\n",
    "                                                    'January' : 1, \n",
    "                                                    'February' : 2, \n",
    "                                                    'March' : 3, \n",
    "                                                    'April' : 4, \n",
    "                                                    'May' : 5, \n",
    "                                                    'June' : 6,\n",
    "                                                    'July' : 7, \n",
    "                                                    'August' : 8, \n",
    "                                                    'September' : 9, \n",
    "                                                    'October' : 10, \n",
    "                                                    'November' : 11, \n",
    "                                                    'December' : 12,   \n",
    "})\n",
    "df_map_transform = df\n",
    "df_map_transform"
   ]
  },
  {
   "cell_type": "code",
   "execution_count": null,
   "id": "39c183e2",
   "metadata": {},
   "outputs": [],
   "source": [
    "#Transformação get_dummie\n",
    "data_dummie = pd.get_dummies(df_map_transform.drop(['type', \n",
    "                                      'cancellation', \n",
    "                                      'days_between_booking_arrival',\n",
    "                                     'year_arrival_date',\n",
    "                                     'week_number_arrival_date',\n",
    "                                     'day_of_month_arrival_date',\n",
    "                                     'num_weekend_nights',\n",
    "                                     'num_workweek_nights',\n",
    "                                     'num_adults',\n",
    "                                     'num_children',\n",
    "                                     'num_babies',\n",
    "                                     'breakfast',\n",
    "                                     'market_segment',\n",
    "                                     'distribution_channel',\n",
    "                                     'repeated_guest',\n",
    "                                     'num_previous_cancellations',\n",
    "                                     'num_previous_stays',\n",
    "                                     'changes_between_booking_arrival',\n",
    "                                     'deposit_policy',\n",
    "                                     'id_travel_agency_booking',\n",
    "                                     'id_person_booking',\n",
    "                                     'customer_type',\n",
    "                                     'avg_price',\n",
    "                                     'required_car_parking_spaces',\n",
    "                                     'total_of_special_requests'], axis = 1))\n",
    "\n",
    "df_get_dummies = pd.concat([df_map_transform, data_dummie], axis = 1)\n",
    "df_get_dummies"
   ]
  },
  {
   "cell_type": "code",
   "execution_count": null,
   "id": "9156d7e7",
   "metadata": {},
   "outputs": [],
   "source": [
    "data_dummie"
   ]
  },
  {
   "cell_type": "code",
   "execution_count": null,
   "id": "18c1b16a",
   "metadata": {},
   "outputs": [],
   "source": [
    "data_drop = df_map_transform.drop(['type', \n",
    "                                      'cancellation', \n",
    "                                      'days_between_booking_arrival',\n",
    "                                     'year_arrival_date',\n",
    "                                     'month_arrival_date',\n",
    "                                     'week_number_arrival_date',\n",
    "                                     'day_of_month_arrival_date',\n",
    "                                     'num_weekend_nights',\n",
    "                                     'num_workweek_nights',\n",
    "                                     'num_adults',\n",
    "                                     'num_children',\n",
    "                                     'num_babies',\n",
    "                                     'breakfast',\n",
    "                                     'market_segment',\n",
    "                                     'distribution_channel',\n",
    "                                     'repeated_guest',\n",
    "                                     'num_previous_cancellations',\n",
    "                                     'num_previous_stays',\n",
    "                                     'changes_between_booking_arrival',\n",
    "                                     'deposit_policy',\n",
    "                                     'id_travel_agency_booking',\n",
    "                                     'id_person_booking',\n",
    "                                     'customer_type',\n",
    "                                     'avg_price',\n",
    "                                     'required_car_parking_spaces',\n",
    "                                     'total_of_special_requests'], axis = 1)\n",
    "data_drop"
   ]
  },
  {
   "cell_type": "code",
   "execution_count": null,
   "id": "d0e92570",
   "metadata": {},
   "outputs": [],
   "source": [
    "Transform_dummies = pd.get_dummies(df_map_transform.drop(['type', \n",
    "                                      'cancellation', \n",
    "                                      'days_between_booking_arrival',\n",
    "                                     'year_arrival_date',\n",
    "                                     'month_arrival_date',\n",
    "                                     'week_number_arrival_date',\n",
    "                                     'day_of_month_arrival_date',\n",
    "                                     'num_weekend_nights',\n",
    "                                     'num_workweek_nights',\n",
    "                                     'num_adults',\n",
    "                                     'num_children',\n",
    "                                     'num_babies',\n",
    "                                     'breakfast',\n",
    "                                     'market_segment',\n",
    "                                     'distribution_channel',\n",
    "                                     'repeated_guest',\n",
    "                                     'num_previous_cancellations',\n",
    "                                     'num_previous_stays',\n",
    "                                     'changes_between_booking_arrival',\n",
    "                                     'deposit_policy',\n",
    "                                     'id_travel_agency_booking',\n",
    "                                     'id_person_booking',\n",
    "                                     'customer_type',\n",
    "                                     'avg_price',\n",
    "                                     'required_car_parking_spaces',\n",
    "                                     'total_of_special_requests'], axis = 1))\n",
    "df_final = pd.concat([df_map_transform,Transform_dummies], axis = 1)"
   ]
  },
  {
   "cell_type": "code",
   "execution_count": null,
   "id": "5ac3b7a2",
   "metadata": {},
   "outputs": [],
   "source": [
    "df_final"
   ]
  },
  {
   "cell_type": "code",
   "execution_count": null,
   "id": "6618ec0e",
   "metadata": {},
   "outputs": [],
   "source": []
  },
  {
   "cell_type": "code",
   "execution_count": 16,
   "id": "9eb3fa70",
   "metadata": {},
   "outputs": [],
   "source": [
    "#import matplotlib.pyplot as plt\n",
    "import pandas as pd\n",
    "import numpy as np\n",
    "\n",
    "from sklearn.preprocessing import StandardScaler\n",
    "from sklearn.neighbors import KNeighborsClassifier\n",
    "from sklearn.model_selection import train_test_split\n",
    "from sklearn.naive_bayes import BernoulliNB"
   ]
  },
  {
   "cell_type": "code",
   "execution_count": 2,
   "id": "39933522",
   "metadata": {},
   "outputs": [],
   "source": [
    "df = pd.read_csv(\"cancellation_prediction.csv\")\n",
    "#df"
   ]
  },
  {
   "cell_type": "code",
   "execution_count": 3,
   "id": "cc88c7ef",
   "metadata": {},
   "outputs": [],
   "source": [
    "#Removendo do df as colunas que serão tratadas\n",
    "df_naive = df.drop(['type', \n",
    "                    'month_arrival_date', \n",
    "                    'breakfast', \n",
    "                    'country', \n",
    "                    'reserved_room', \n",
    "                    'deposit_policy'], axis = 1)\n",
    "#df_naive"
   ]
  },
  {
   "cell_type": "code",
   "execution_count": 4,
   "id": "4d7071d1",
   "metadata": {},
   "outputs": [],
   "source": [
    "#Transformando dtype object em int, de forma manual\n",
    "type_hotel = df['type'].map({'Hotel': 0, 'Fancy Hotel' : 1})\n",
    "month_arrival_date = df['month_arrival_date'].map({\n",
    "                                                    'January' : 1, \n",
    "                                                    'February' : 2, \n",
    "                                                    'March' : 3, \n",
    "                                                    'April' : 4, \n",
    "                                                    'May' : 5, \n",
    "                                                    'June' : 6,\n",
    "                                                    'July' : 7, \n",
    "                                                    'August' : 8, \n",
    "                                                    'September' : 9, \n",
    "                                                    'October' : 10, \n",
    "                                                    'November' : 11, \n",
    "                                                    'December' : 12,})\n",
    "breakfast = df['breakfast'].map({True : 0, False : 1})\n",
    "deposit_policy = df['deposit_policy'].map({'No Deposit': 0, \n",
    "                                                 'Refundable' : 1, \n",
    "                                                 'Non Refund' : 2})\n",
    "transform_map = pd.concat([type_hotel, month_arrival_date, breakfast, deposit_policy], axis = 1)\n",
    "#transform_map"
   ]
  },
  {
   "cell_type": "code",
   "execution_count": 5,
   "id": "0a182731",
   "metadata": {},
   "outputs": [],
   "source": [
    "#transformando\n",
    "Transform_dummies = pd.get_dummies(df.drop(['type', \n",
    "                                      'cancellation', \n",
    "                                      'days_between_booking_arrival',\n",
    "                                     'year_arrival_date',\n",
    "                                     'month_arrival_date',\n",
    "                                     'week_number_arrival_date',\n",
    "                                     'day_of_month_arrival_date',\n",
    "                                     'num_weekend_nights',\n",
    "                                     'num_workweek_nights',\n",
    "                                     'num_adults',\n",
    "                                     'num_children',\n",
    "                                     'num_babies',\n",
    "                                     'breakfast',\n",
    "                                     'market_segment',\n",
    "                                     'distribution_channel',\n",
    "                                     'repeated_guest',\n",
    "                                     'num_previous_cancellations',\n",
    "                                     'num_previous_stays',\n",
    "                                     'changes_between_booking_arrival',\n",
    "                                     'deposit_policy',\n",
    "                                     'id_travel_agency_booking',\n",
    "                                     'id_person_booking',\n",
    "                                     'customer_type',\n",
    "                                     'avg_price',\n",
    "                                     'required_car_parking_spaces',\n",
    "                                     'total_of_special_requests'], axis = 1))\n",
    "#Transform_dummies"
   ]
  },
  {
   "cell_type": "code",
   "execution_count": 6,
   "id": "50dfef0b",
   "metadata": {},
   "outputs": [],
   "source": [
    "df_final = pd.concat([df_naive, transform_map, Transform_dummies], axis = 1)\n",
    "df_final = df_final.drop(['id_travel_agency_booking', 'id_person_booking'], axis = 1).dropna()"
   ]
  },
  {
   "cell_type": "code",
   "execution_count": null,
   "id": "c9f8500a",
   "metadata": {},
   "outputs": [],
   "source": [
    "#Check Null Values\n",
    "isnull = df_final.isnull()\n",
    "isnull = isnull[isnull.sum(axis=1) > 0]\n",
    "isnull = isnull.loc[:, isnull.sum(axis=0) > 0]\n",
    "isnull"
   ]
  },
  {
   "cell_type": "code",
   "execution_count": 7,
   "id": "caf8fa06",
   "metadata": {},
   "outputs": [],
   "source": [
    "#Divisão em inputs e outputs\n",
    "X = df_final.drop('cancellation', axis = 1)\n",
    "y = df_final['cancellation']"
   ]
  },
  {
   "cell_type": "code",
   "execution_count": 8,
   "id": "10d300be",
   "metadata": {},
   "outputs": [],
   "source": [
    "norm = StandardScaler()\n",
    "x_norm = norm.fit_transform(X)"
   ]
  },
  {
   "cell_type": "code",
   "execution_count": null,
   "id": "10de1e97",
   "metadata": {},
   "outputs": [],
   "source": [
    "NewData = df_final.iloc[[1234]]\n",
    "new = NewData.drop(['cancellation'],axis=1)\n",
    "NewData_norm = norm.transform(pd.DataFrame(NewData, columns = X.columns))\n",
    "#NewData_norm"
   ]
  },
  {
   "cell_type": "code",
   "execution_count": 9,
   "id": "45bea169",
   "metadata": {},
   "outputs": [],
   "source": [
    "X_train, X_test, y_train, y_test = train_test_split(x_norm, y, test_size=0.3,random_state = 123)"
   ]
  },
  {
   "cell_type": "markdown",
   "id": "fc4d323b",
   "metadata": {},
   "source": [
    "treino teste"
   ]
  },
  {
   "cell_type": "code",
   "execution_count": 10,
   "id": "3621da6a",
   "metadata": {},
   "outputs": [],
   "source": [
    "knn = KNeighborsClassifier(metric='euclidean')"
   ]
  },
  {
   "cell_type": "code",
   "execution_count": 11,
   "id": "32443ad4",
   "metadata": {},
   "outputs": [
    {
     "data": {
      "text/html": [
       "<style>#sk-container-id-1 {color: black;background-color: white;}#sk-container-id-1 pre{padding: 0;}#sk-container-id-1 div.sk-toggleable {background-color: white;}#sk-container-id-1 label.sk-toggleable__label {cursor: pointer;display: block;width: 100%;margin-bottom: 0;padding: 0.3em;box-sizing: border-box;text-align: center;}#sk-container-id-1 label.sk-toggleable__label-arrow:before {content: \"▸\";float: left;margin-right: 0.25em;color: #696969;}#sk-container-id-1 label.sk-toggleable__label-arrow:hover:before {color: black;}#sk-container-id-1 div.sk-estimator:hover label.sk-toggleable__label-arrow:before {color: black;}#sk-container-id-1 div.sk-toggleable__content {max-height: 0;max-width: 0;overflow: hidden;text-align: left;background-color: #f0f8ff;}#sk-container-id-1 div.sk-toggleable__content pre {margin: 0.2em;color: black;border-radius: 0.25em;background-color: #f0f8ff;}#sk-container-id-1 input.sk-toggleable__control:checked~div.sk-toggleable__content {max-height: 200px;max-width: 100%;overflow: auto;}#sk-container-id-1 input.sk-toggleable__control:checked~label.sk-toggleable__label-arrow:before {content: \"▾\";}#sk-container-id-1 div.sk-estimator input.sk-toggleable__control:checked~label.sk-toggleable__label {background-color: #d4ebff;}#sk-container-id-1 div.sk-label input.sk-toggleable__control:checked~label.sk-toggleable__label {background-color: #d4ebff;}#sk-container-id-1 input.sk-hidden--visually {border: 0;clip: rect(1px 1px 1px 1px);clip: rect(1px, 1px, 1px, 1px);height: 1px;margin: -1px;overflow: hidden;padding: 0;position: absolute;width: 1px;}#sk-container-id-1 div.sk-estimator {font-family: monospace;background-color: #f0f8ff;border: 1px dotted black;border-radius: 0.25em;box-sizing: border-box;margin-bottom: 0.5em;}#sk-container-id-1 div.sk-estimator:hover {background-color: #d4ebff;}#sk-container-id-1 div.sk-parallel-item::after {content: \"\";width: 100%;border-bottom: 1px solid gray;flex-grow: 1;}#sk-container-id-1 div.sk-label:hover label.sk-toggleable__label {background-color: #d4ebff;}#sk-container-id-1 div.sk-serial::before {content: \"\";position: absolute;border-left: 1px solid gray;box-sizing: border-box;top: 0;bottom: 0;left: 50%;z-index: 0;}#sk-container-id-1 div.sk-serial {display: flex;flex-direction: column;align-items: center;background-color: white;padding-right: 0.2em;padding-left: 0.2em;position: relative;}#sk-container-id-1 div.sk-item {position: relative;z-index: 1;}#sk-container-id-1 div.sk-parallel {display: flex;align-items: stretch;justify-content: center;background-color: white;position: relative;}#sk-container-id-1 div.sk-item::before, #sk-container-id-1 div.sk-parallel-item::before {content: \"\";position: absolute;border-left: 1px solid gray;box-sizing: border-box;top: 0;bottom: 0;left: 50%;z-index: -1;}#sk-container-id-1 div.sk-parallel-item {display: flex;flex-direction: column;z-index: 1;position: relative;background-color: white;}#sk-container-id-1 div.sk-parallel-item:first-child::after {align-self: flex-end;width: 50%;}#sk-container-id-1 div.sk-parallel-item:last-child::after {align-self: flex-start;width: 50%;}#sk-container-id-1 div.sk-parallel-item:only-child::after {width: 0;}#sk-container-id-1 div.sk-dashed-wrapped {border: 1px dashed gray;margin: 0 0.4em 0.5em 0.4em;box-sizing: border-box;padding-bottom: 0.4em;background-color: white;}#sk-container-id-1 div.sk-label label {font-family: monospace;font-weight: bold;display: inline-block;line-height: 1.2em;}#sk-container-id-1 div.sk-label-container {text-align: center;}#sk-container-id-1 div.sk-container {/* jupyter's `normalize.less` sets `[hidden] { display: none; }` but bootstrap.min.css set `[hidden] { display: none !important; }` so we also need the `!important` here to be able to override the default hidden behavior on the sphinx rendered scikit-learn.org. See: https://github.com/scikit-learn/scikit-learn/issues/21755 */display: inline-block !important;position: relative;}#sk-container-id-1 div.sk-text-repr-fallback {display: none;}</style><div id=\"sk-container-id-1\" class=\"sk-top-container\"><div class=\"sk-text-repr-fallback\"><pre>KNeighborsClassifier(metric=&#x27;euclidean&#x27;)</pre><b>In a Jupyter environment, please rerun this cell to show the HTML representation or trust the notebook. <br />On GitHub, the HTML representation is unable to render, please try loading this page with nbviewer.org.</b></div><div class=\"sk-container\" hidden><div class=\"sk-item\"><div class=\"sk-estimator sk-toggleable\"><input class=\"sk-toggleable__control sk-hidden--visually\" id=\"sk-estimator-id-1\" type=\"checkbox\" checked><label for=\"sk-estimator-id-1\" class=\"sk-toggleable__label sk-toggleable__label-arrow\">KNeighborsClassifier</label><div class=\"sk-toggleable__content\"><pre>KNeighborsClassifier(metric=&#x27;euclidean&#x27;)</pre></div></div></div></div></div>"
      ],
      "text/plain": [
       "KNeighborsClassifier(metric='euclidean')"
      ]
     },
     "execution_count": 11,
     "metadata": {},
     "output_type": "execute_result"
    }
   ],
   "source": [
    "knn.fit(X_train, y_train)"
   ]
  },
  {
   "cell_type": "code",
   "execution_count": 12,
   "id": "6f4736a8",
   "metadata": {},
   "outputs": [],
   "source": [
    "predicit_knn = knn.predict(X_test)"
   ]
  },
  {
   "cell_type": "code",
   "execution_count": 13,
   "id": "323d150c",
   "metadata": {
    "scrolled": true
   },
   "outputs": [
    {
     "data": {
      "text/plain": [
       "array([0, 0, 1, ..., 1, 1, 0], dtype=int64)"
      ]
     },
     "execution_count": 13,
     "metadata": {},
     "output_type": "execute_result"
    }
   ],
   "source": [
    "predicit_knn"
   ]
  },
  {
   "cell_type": "code",
   "execution_count": 17,
   "id": "74aa2e6d",
   "metadata": {},
   "outputs": [
    {
     "data": {
      "text/plain": [
       "-0.011209757393171605"
      ]
     },
     "execution_count": 17,
     "metadata": {},
     "output_type": "execute_result"
    }
   ],
   "source": [
    "np.median(X_train)"
   ]
  },
  {
   "cell_type": "code",
   "execution_count": 21,
   "id": "b8df53d4",
   "metadata": {},
   "outputs": [],
   "source": [
    "bnb = BernoulliNB(binarize = 0.01)"
   ]
  },
  {
   "cell_type": "code",
   "execution_count": 22,
   "id": "9f30df47",
   "metadata": {},
   "outputs": [
    {
     "data": {
      "text/html": [
       "<style>#sk-container-id-2 {color: black;background-color: white;}#sk-container-id-2 pre{padding: 0;}#sk-container-id-2 div.sk-toggleable {background-color: white;}#sk-container-id-2 label.sk-toggleable__label {cursor: pointer;display: block;width: 100%;margin-bottom: 0;padding: 0.3em;box-sizing: border-box;text-align: center;}#sk-container-id-2 label.sk-toggleable__label-arrow:before {content: \"▸\";float: left;margin-right: 0.25em;color: #696969;}#sk-container-id-2 label.sk-toggleable__label-arrow:hover:before {color: black;}#sk-container-id-2 div.sk-estimator:hover label.sk-toggleable__label-arrow:before {color: black;}#sk-container-id-2 div.sk-toggleable__content {max-height: 0;max-width: 0;overflow: hidden;text-align: left;background-color: #f0f8ff;}#sk-container-id-2 div.sk-toggleable__content pre {margin: 0.2em;color: black;border-radius: 0.25em;background-color: #f0f8ff;}#sk-container-id-2 input.sk-toggleable__control:checked~div.sk-toggleable__content {max-height: 200px;max-width: 100%;overflow: auto;}#sk-container-id-2 input.sk-toggleable__control:checked~label.sk-toggleable__label-arrow:before {content: \"▾\";}#sk-container-id-2 div.sk-estimator input.sk-toggleable__control:checked~label.sk-toggleable__label {background-color: #d4ebff;}#sk-container-id-2 div.sk-label input.sk-toggleable__control:checked~label.sk-toggleable__label {background-color: #d4ebff;}#sk-container-id-2 input.sk-hidden--visually {border: 0;clip: rect(1px 1px 1px 1px);clip: rect(1px, 1px, 1px, 1px);height: 1px;margin: -1px;overflow: hidden;padding: 0;position: absolute;width: 1px;}#sk-container-id-2 div.sk-estimator {font-family: monospace;background-color: #f0f8ff;border: 1px dotted black;border-radius: 0.25em;box-sizing: border-box;margin-bottom: 0.5em;}#sk-container-id-2 div.sk-estimator:hover {background-color: #d4ebff;}#sk-container-id-2 div.sk-parallel-item::after {content: \"\";width: 100%;border-bottom: 1px solid gray;flex-grow: 1;}#sk-container-id-2 div.sk-label:hover label.sk-toggleable__label {background-color: #d4ebff;}#sk-container-id-2 div.sk-serial::before {content: \"\";position: absolute;border-left: 1px solid gray;box-sizing: border-box;top: 0;bottom: 0;left: 50%;z-index: 0;}#sk-container-id-2 div.sk-serial {display: flex;flex-direction: column;align-items: center;background-color: white;padding-right: 0.2em;padding-left: 0.2em;position: relative;}#sk-container-id-2 div.sk-item {position: relative;z-index: 1;}#sk-container-id-2 div.sk-parallel {display: flex;align-items: stretch;justify-content: center;background-color: white;position: relative;}#sk-container-id-2 div.sk-item::before, #sk-container-id-2 div.sk-parallel-item::before {content: \"\";position: absolute;border-left: 1px solid gray;box-sizing: border-box;top: 0;bottom: 0;left: 50%;z-index: -1;}#sk-container-id-2 div.sk-parallel-item {display: flex;flex-direction: column;z-index: 1;position: relative;background-color: white;}#sk-container-id-2 div.sk-parallel-item:first-child::after {align-self: flex-end;width: 50%;}#sk-container-id-2 div.sk-parallel-item:last-child::after {align-self: flex-start;width: 50%;}#sk-container-id-2 div.sk-parallel-item:only-child::after {width: 0;}#sk-container-id-2 div.sk-dashed-wrapped {border: 1px dashed gray;margin: 0 0.4em 0.5em 0.4em;box-sizing: border-box;padding-bottom: 0.4em;background-color: white;}#sk-container-id-2 div.sk-label label {font-family: monospace;font-weight: bold;display: inline-block;line-height: 1.2em;}#sk-container-id-2 div.sk-label-container {text-align: center;}#sk-container-id-2 div.sk-container {/* jupyter's `normalize.less` sets `[hidden] { display: none; }` but bootstrap.min.css set `[hidden] { display: none !important; }` so we also need the `!important` here to be able to override the default hidden behavior on the sphinx rendered scikit-learn.org. See: https://github.com/scikit-learn/scikit-learn/issues/21755 */display: inline-block !important;position: relative;}#sk-container-id-2 div.sk-text-repr-fallback {display: none;}</style><div id=\"sk-container-id-2\" class=\"sk-top-container\"><div class=\"sk-text-repr-fallback\"><pre>BernoulliNB(binarize=0.01)</pre><b>In a Jupyter environment, please rerun this cell to show the HTML representation or trust the notebook. <br />On GitHub, the HTML representation is unable to render, please try loading this page with nbviewer.org.</b></div><div class=\"sk-container\" hidden><div class=\"sk-item\"><div class=\"sk-estimator sk-toggleable\"><input class=\"sk-toggleable__control sk-hidden--visually\" id=\"sk-estimator-id-2\" type=\"checkbox\" checked><label for=\"sk-estimator-id-2\" class=\"sk-toggleable__label sk-toggleable__label-arrow\">BernoulliNB</label><div class=\"sk-toggleable__content\"><pre>BernoulliNB(binarize=0.01)</pre></div></div></div></div></div>"
      ],
      "text/plain": [
       "BernoulliNB(binarize=0.01)"
      ]
     },
     "execution_count": 22,
     "metadata": {},
     "output_type": "execute_result"
    }
   ],
   "source": [
    "bnb.fit(X_train, y_train)"
   ]
  },
  {
   "cell_type": "code",
   "execution_count": 23,
   "id": "b9cb0fb7",
   "metadata": {},
   "outputs": [],
   "source": [
    "predict_bnb = bnb.predict(X_test)"
   ]
  },
  {
   "cell_type": "code",
   "execution_count": 24,
   "id": "16c36f7b",
   "metadata": {},
   "outputs": [
    {
     "data": {
      "text/plain": [
       "array([0, 1, 0, ..., 0, 1, 0], dtype=int64)"
      ]
     },
     "execution_count": 24,
     "metadata": {},
     "output_type": "execute_result"
    }
   ],
   "source": [
    "predict_bnb"
   ]
  },
  {
   "cell_type": "code",
   "execution_count": null,
   "id": "f6be8c6c",
   "metadata": {},
   "outputs": [],
   "source": []
  }
 ],
 "metadata": {
  "kernelspec": {
   "display_name": "Python 3 (ipykernel)",
   "language": "python",
   "name": "python3"
  },
  "language_info": {
   "codemirror_mode": {
    "name": "ipython",
    "version": 3
   },
   "file_extension": ".py",
   "mimetype": "text/x-python",
   "name": "python",
   "nbconvert_exporter": "python",
   "pygments_lexer": "ipython3",
   "version": "3.10.9"
  }
 },
 "nbformat": 4,
 "nbformat_minor": 5
}
