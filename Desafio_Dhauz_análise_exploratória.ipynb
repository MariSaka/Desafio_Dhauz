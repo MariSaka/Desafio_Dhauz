{
 "cells": [
  {
   "cell_type": "markdown",
   "id": "bebdbc30",
   "metadata": {},
   "source": [
    "Elabore hipóteses e visualizações envolvendo a variável cancellation e, pelo menos, outras duas variáveis presentes no dataset;"
   ]
  },
  {
   "cell_type": "code",
   "execution_count": null,
   "id": "8926b7b0",
   "metadata": {},
   "outputs": [],
   "source": [
    "import matplotlib.pyplot as plt\n",
    "import pandas as pd\n",
    "import numpy as np"
   ]
  },
  {
   "cell_type": "code",
   "execution_count": null,
   "id": "a72a9194",
   "metadata": {},
   "outputs": [],
   "source": [
    "df = pd.read_csv(\"cancellation_prediction.csv\")\n",
    "df"
   ]
  },
  {
   "cell_type": "code",
   "execution_count": null,
   "id": "38f1e3ae",
   "metadata": {},
   "outputs": [],
   "source": [
    "#explorando as colunas\n",
    "df.info()"
   ]
  },
  {
   "cell_type": "code",
   "execution_count": null,
   "id": "0a2237a3",
   "metadata": {},
   "outputs": [],
   "source": [
    "#Explorando as informações contidas em cada coluna\n",
    "df['cancellation'].unique()"
   ]
  },
  {
   "cell_type": "code",
   "execution_count": null,
   "id": "0f3c429f",
   "metadata": {},
   "outputs": [],
   "source": [
    "### Correlação entre cancelamentos e tipo de hospedagem\n",
    "df['type'].unique()"
   ]
  },
  {
   "cell_type": "code",
   "execution_count": null,
   "id": "80f6092d",
   "metadata": {},
   "outputs": [],
   "source": [
    "#\n",
    "df['num_weekend_nights'].unique()"
   ]
  },
  {
   "cell_type": "code",
   "execution_count": null,
   "id": "f250976a",
   "metadata": {},
   "outputs": [],
   "source": [
    "#\n",
    "df['num_workweek_nights'].unique()"
   ]
  },
  {
   "cell_type": "code",
   "execution_count": null,
   "id": "55951ec9",
   "metadata": {},
   "outputs": [],
   "source": [
    "##\n",
    "np.sort(df['num_adults'].unique())"
   ]
  },
  {
   "cell_type": "code",
   "execution_count": null,
   "id": "59a692c3",
   "metadata": {},
   "outputs": [],
   "source": [
    "##\n",
    "df['num_children'].unique()"
   ]
  },
  {
   "cell_type": "code",
   "execution_count": null,
   "id": "cab007b3",
   "metadata": {},
   "outputs": [],
   "source": [
    "##\n",
    "df['num_babies'].unique()"
   ]
  },
  {
   "cell_type": "code",
   "execution_count": null,
   "id": "44360e8b",
   "metadata": {},
   "outputs": [],
   "source": [
    "###\n",
    "df['breakfast'].unique()"
   ]
  },
  {
   "cell_type": "code",
   "execution_count": null,
   "id": "857c9036",
   "metadata": {},
   "outputs": [],
   "source": [
    "#?\n",
    "df['country'].unique()"
   ]
  },
  {
   "cell_type": "code",
   "execution_count": null,
   "id": "911d1592",
   "metadata": {},
   "outputs": [],
   "source": [
    "#\n",
    "df['market_segment'].unique()"
   ]
  },
  {
   "cell_type": "code",
   "execution_count": null,
   "id": "6ed5a5ed",
   "metadata": {},
   "outputs": [],
   "source": [
    "#\n",
    "df['distribution_channel'].unique()"
   ]
  },
  {
   "cell_type": "code",
   "execution_count": null,
   "id": "513a9798",
   "metadata": {},
   "outputs": [],
   "source": [
    "##\n",
    "df['repeated_guest'].unique()"
   ]
  },
  {
   "cell_type": "code",
   "execution_count": null,
   "id": "62a419bd",
   "metadata": {},
   "outputs": [],
   "source": [
    "###\n",
    "df['num_previous_cancellations'].unique()"
   ]
  },
  {
   "cell_type": "code",
   "execution_count": null,
   "id": "e6c88228",
   "metadata": {},
   "outputs": [],
   "source": [
    "##\n",
    "df['num_previous_stays'].unique()"
   ]
  },
  {
   "cell_type": "code",
   "execution_count": null,
   "id": "854cb62d",
   "metadata": {},
   "outputs": [],
   "source": [
    "#\n",
    "df['reserved_room'].unique()"
   ]
  },
  {
   "cell_type": "code",
   "execution_count": null,
   "id": "fd603996",
   "metadata": {},
   "outputs": [],
   "source": [
    "##?\n",
    "df['changes_between_booking_arrival'].unique()"
   ]
  },
  {
   "cell_type": "code",
   "execution_count": null,
   "id": "a9cd4bf1",
   "metadata": {},
   "outputs": [],
   "source": [
    "###\n",
    "df['deposit_policy'].unique()"
   ]
  },
  {
   "cell_type": "code",
   "execution_count": null,
   "id": "9b4b3126",
   "metadata": {},
   "outputs": [],
   "source": [
    "#?\n",
    "df['customer_type'].unique()  "
   ]
  },
  {
   "cell_type": "code",
   "execution_count": null,
   "id": "85cf045a",
   "metadata": {},
   "outputs": [],
   "source": [
    "###?\n",
    "df['avg_price'].unique() "
   ]
  },
  {
   "cell_type": "code",
   "execution_count": null,
   "id": "b384663a",
   "metadata": {},
   "outputs": [],
   "source": [
    "##\n",
    "df['required_car_parking_spaces'].unique() "
   ]
  },
  {
   "cell_type": "code",
   "execution_count": null,
   "id": "d950579e",
   "metadata": {},
   "outputs": [],
   "source": [
    "#\n",
    "df['total_of_special_requests'].unique() "
   ]
  },
  {
   "cell_type": "code",
   "execution_count": null,
   "id": "256884a3",
   "metadata": {},
   "outputs": [],
   "source": []
  },
  {
   "cell_type": "code",
   "execution_count": null,
   "id": "86560338",
   "metadata": {},
   "outputs": [],
   "source": [
    "#Pessoas que reservam em hoteis \"fancy\" cancelam menos?\n",
    "\n",
    "types = (\n",
    "    \"Fancy Hotel\",\n",
    "    \"Hotel\",\n",
    ")\n",
    "cancellations = {\n",
    "    \"zero\": np.array([28938, 46228]),\n",
    "    \"one\": np.array([11122, 33102]),\n",
    "}\n",
    "width = 0.5\n",
    "\n",
    "fig, ax = plt.subplots()\n",
    "bottom = np.zeros(2)\n",
    "\n",
    "for boolean, cancellation in cancellations.items():\n",
    "    p = ax.bar(types, cancellation, width, label=boolean, bottom=bottom)\n",
    "    bottom += cancellation\n",
    "\n",
    "ax.set_title(\"#pensar na legenda\")\n",
    "ax.legend(loc=\"upper right\")\n",
    "\n",
    "plt.show()"
   ]
  },
  {
   "cell_type": "code",
   "execution_count": null,
   "id": "b35f455e",
   "metadata": {},
   "outputs": [],
   "source": [
    "# pessoas que reservam o hotel com o sinal sem reembolso cancelam mais?\n",
    "\n",
    "deposit_policy = (\n",
    "    'No Deposit', 'Refundable', 'Non Refund',\n",
    ")\n",
    "cancellations = {\n",
    "    \"zero\": np.array([74947 , 126 , 93]),\n",
    "    \"one\": np.array([29694 , 36 , 14494 ]),\n",
    "}\n",
    "width = 0.5\n",
    "\n",
    "fig, ax = plt.subplots()\n",
    "bottom = np.zeros(3)\n",
    "\n",
    "for boolean, cancellation in cancellations.items():\n",
    "    p = ax.bar(deposit_policy, cancellation, width, label=boolean, bottom=bottom)\n",
    "    bottom += cancellation\n",
    "\n",
    "ax.set_title(\"#pensar na legenda\")\n",
    "ax.legend(loc=\"upper right\")\n",
    "\n",
    "plt.show()"
   ]
  },
  {
   "cell_type": "code",
   "execution_count": null,
   "id": "8cf94808",
   "metadata": {},
   "outputs": [],
   "source": []
  }
 ],
 "metadata": {
  "kernelspec": {
   "display_name": "Python 3 (ipykernel)",
   "language": "python",
   "name": "python3"
  },
  "language_info": {
   "codemirror_mode": {
    "name": "ipython",
    "version": 3
   },
   "file_extension": ".py",
   "mimetype": "text/x-python",
   "name": "python",
   "nbconvert_exporter": "python",
   "pygments_lexer": "ipython3",
   "version": "3.10.9"
  }
 },
 "nbformat": 4,
 "nbformat_minor": 5
}
