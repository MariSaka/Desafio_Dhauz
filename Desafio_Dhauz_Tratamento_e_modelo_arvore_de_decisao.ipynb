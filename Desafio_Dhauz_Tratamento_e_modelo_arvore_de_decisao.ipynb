{
 "cells": [
  {
   "cell_type": "markdown",
   "id": "8af8d4fb",
   "metadata": {},
   "source": [
    "Desenvolva um modelo preditivo de classificação para identificar cancelamentos e utilize métricas adequadas para argumentar a efetividade do modelo;"
   ]
  },
  {
   "cell_type": "code",
   "execution_count": null,
   "id": "b94740b6",
   "metadata": {},
   "outputs": [],
   "source": [
    "#import matplotlib.pyplot as plt\n",
    "import pandas as pd\n",
    "import numpy as np\n",
    "\n",
    "from sklearn.preprocessing import StandardScaler\n",
    "#from sklearn.neighbors import KNeighborsClassifier\n",
    "from sklearn.model_selection import train_test_split\n",
    "#from sklearn.naive_bayes import BernoulliNB\n",
    "from sklearn.tree import DecisionTreeClassifier\n",
    "from sklearn.metrics import confusion_matrix\n",
    "from sklearn.metrics import accuracy_score\n",
    "from sklearn.metrics import precision_score\n",
    "from sklearn.metrics import recall_score"
   ]
  },
  {
   "cell_type": "code",
   "execution_count": null,
   "id": "98378191",
   "metadata": {
    "scrolled": false
   },
   "outputs": [],
   "source": [
    "df = pd.read_csv(\"cancellation_prediction.csv\")\n",
    "df"
   ]
  },
  {
   "cell_type": "code",
   "execution_count": null,
   "id": "c6639972",
   "metadata": {},
   "outputs": [],
   "source": [
    "#Removendo do df as colunas que serão tratadas\n",
    "df_naive = df.drop(['type', \n",
    "                    'month_arrival_date', \n",
    "                    'breakfast', \n",
    "                    'country', \n",
    "                    'reserved_room', \n",
    "                    'deposit_policy'], axis = 1)\n",
    "df_naive"
   ]
  },
  {
   "cell_type": "code",
   "execution_count": null,
   "id": "da21dcf0",
   "metadata": {},
   "outputs": [],
   "source": [
    "#Transformando dtype object em int, de forma manual\n",
    "type_hotel = df['type'].map({'Hotel': 0, 'Fancy Hotel' : 1})\n",
    "month_arrival_date = df['month_arrival_date'].map({\n",
    "                                                    'January' : 1, \n",
    "                                                    'February' : 2, \n",
    "                                                    'March' : 3, \n",
    "                                                    'April' : 4, \n",
    "                                                    'May' : 5, \n",
    "                                                    'June' : 6,\n",
    "                                                    'July' : 7, \n",
    "                                                    'August' : 8, \n",
    "                                                    'September' : 9, \n",
    "                                                    'October' : 10, \n",
    "                                                    'November' : 11, \n",
    "                                                    'December' : 12,})\n",
    "breakfast = df['breakfast'].map({True : 0, False : 1})\n",
    "deposit_policy = df['deposit_policy'].map({'No Deposit': 0, \n",
    "                                                 'Refundable' : 1, \n",
    "                                                 'Non Refund' : 2})\n",
    "transform_map = pd.concat([type_hotel, month_arrival_date, breakfast, deposit_policy], axis = 1)\n",
    "transform_map"
   ]
  },
  {
   "cell_type": "code",
   "execution_count": null,
   "id": "27572c1f",
   "metadata": {},
   "outputs": [],
   "source": [
    "#transformando através do get_dummies\n",
    "Transform_dummies = pd.get_dummies(df.drop(['type', \n",
    "                                      'cancellation', \n",
    "                                      'days_between_booking_arrival',\n",
    "                                     'year_arrival_date',\n",
    "                                     'month_arrival_date',\n",
    "                                     'week_number_arrival_date',\n",
    "                                     'day_of_month_arrival_date',\n",
    "                                     'num_weekend_nights',\n",
    "                                     'num_workweek_nights',\n",
    "                                     'num_adults',\n",
    "                                     'num_children',\n",
    "                                     'num_babies',\n",
    "                                     'breakfast',\n",
    "                                     'market_segment',\n",
    "                                     'distribution_channel',\n",
    "                                     'repeated_guest',\n",
    "                                     'num_previous_cancellations',\n",
    "                                     'num_previous_stays',\n",
    "                                     'changes_between_booking_arrival',\n",
    "                                     'deposit_policy',\n",
    "                                     'id_travel_agency_booking',\n",
    "                                     'id_person_booking',\n",
    "                                     'customer_type',\n",
    "                                     'avg_price',\n",
    "                                     'required_car_parking_spaces',\n",
    "                                     'total_of_special_requests'], axis = 1))\n",
    "Transform_dummies"
   ]
  },
  {
   "cell_type": "code",
   "execution_count": null,
   "id": "951d9398",
   "metadata": {},
   "outputs": [],
   "source": [
    "#juntando os dataframes tratados\n",
    "df_final = pd.concat([df_naive, transform_map, Transform_dummies], axis = 1)\n",
    "#removendo colunas 'id_travel_agency_booking' e 'id_person_booking', removendo nan.\n",
    "df_final = df_final.drop(['id_travel_agency_booking', 'id_person_booking'], axis = 1).dropna()\n",
    "df_final"
   ]
  },
  {
   "cell_type": "markdown",
   "id": "238d924c",
   "metadata": {},
   "source": [
    "#modelo árvore de decisão "
   ]
  },
  {
   "cell_type": "code",
   "execution_count": null,
   "id": "60cea01c",
   "metadata": {},
   "outputs": [],
   "source": [
    "#Divisão em inputs e outputs\n",
    "X = df_final.drop('cancellation', axis = 1)\n",
    "y = df_final['cancellation']"
   ]
  },
  {
   "cell_type": "code",
   "execution_count": null,
   "id": "58f78490",
   "metadata": {},
   "outputs": [],
   "source": [
    "#normalizando imouts \n",
    "norm = StandardScaler()\n",
    "x_norm = norm.fit_transform(X)"
   ]
  },
  {
   "cell_type": "code",
   "execution_count": null,
   "id": "24e0358a",
   "metadata": {},
   "outputs": [],
   "source": [
    "X_train, X_test, y_train, y_test = train_test_split(x_norm, y, test_size=0.3,random_state = 123)"
   ]
  },
  {
   "cell_type": "markdown",
   "id": "bb5cf859",
   "metadata": {},
   "source": [
    "treino teste"
   ]
  },
  {
   "cell_type": "code",
   "execution_count": null,
   "id": "d7660873",
   "metadata": {},
   "outputs": [],
   "source": [
    "#decision tree\n",
    "dtc= DecisionTreeClassifier(criterion='entropy', random_state=42)"
   ]
  },
  {
   "cell_type": "code",
   "execution_count": null,
   "id": "60243519",
   "metadata": {},
   "outputs": [],
   "source": [
    "dtc.fit(X_train, y_train)"
   ]
  },
  {
   "cell_type": "code",
   "execution_count": null,
   "id": "43396ed7",
   "metadata": {
    "scrolled": true
   },
   "outputs": [],
   "source": [
    "dtc.feature_importances_"
   ]
  },
  {
   "cell_type": "code",
   "execution_count": null,
   "id": "039edb43",
   "metadata": {},
   "outputs": [],
   "source": [
    "predict_dtc = dtc.predict(X_test)\n",
    "predict_dtc"
   ]
  },
  {
   "cell_type": "markdown",
   "id": "360d39b0",
   "metadata": {},
   "source": [
    "Validação"
   ]
  },
  {
   "cell_type": "code",
   "execution_count": null,
   "id": "a6cf024f",
   "metadata": {},
   "outputs": [],
   "source": [
    "#mariz de confusão\n",
    "r_confusion_matrix = confusion_matrix(y_test, predict_dtc)"
   ]
  },
  {
   "cell_type": "code",
   "execution_count": null,
   "id": "826a268b",
   "metadata": {},
   "outputs": [],
   "source": [
    "#acurácia\n",
    "r_accuracy = accuracy_score(y_test, predict_dtc)"
   ]
  },
  {
   "cell_type": "code",
   "execution_count": null,
   "id": "d49eb62d",
   "metadata": {},
   "outputs": [],
   "source": [
    "#precisão\n",
    "r_precision = precision_score(y_test, predict_dtc)"
   ]
  },
  {
   "cell_type": "code",
   "execution_count": null,
   "id": "4b846f42",
   "metadata": {},
   "outputs": [],
   "source": [
    "#Recall\n",
    "r_recall = recall_score(y_test, predict_dtc)"
   ]
  },
  {
   "cell_type": "markdown",
   "id": "00d1a993",
   "metadata": {},
   "source": [
    "Ao realizar a validação cruzada do modelo de classificação, discuta sobre as diferenças entre utilizar uma separação entre treino e teste aleatória e uma separação temporal (Ex: treino em 2015 e 2016 e validação em 2017). Os resultados são diferentes? Qual o mais indicado?"
   ]
  },
  {
   "cell_type": "code",
   "execution_count": null,
   "id": "f34f8287",
   "metadata": {},
   "outputs": [],
   "source": [
    "#Montando treino-texte separado por ano\n",
    "df_2015 = df_final.loc[df_final['year_arrival_date'] == 2015]\n",
    "df_2016 = df_final.loc[df_final['year_arrival_date'] == 2016]\n",
    "df_2017 = df_final.loc[df_final['year_arrival_date'] == 2017]\n",
    "#juntando dfs 2015 e 2016\n",
    "df_15_16 = pd.concat([df_2015, df_2016], axis = 0)\n",
    "#Divisão em inputs e outputs\n",
    "X_15_16 = df_15_16.drop('cancellation', axis = 1)\n",
    "y_15_16 = df_15_16['cancellation']\n",
    "\n",
    "X_17 = df_2017.drop('cancellation', axis = 1)\n",
    "y_17 = df_2017['cancellation']"
   ]
  },
  {
   "cell_type": "code",
   "execution_count": null,
   "id": "33afdda3",
   "metadata": {},
   "outputs": [],
   "source": [
    "norm = StandardScaler()\n",
    "x_norm_15_16 = norm.fit_transform(X_15_16)"
   ]
  },
  {
   "cell_type": "code",
   "execution_count": null,
   "id": "884293b9",
   "metadata": {},
   "outputs": [],
   "source": [
    "#decision tree\n",
    "dtc= DecisionTreeClassifier(criterion='entropy', random_state=42)"
   ]
  },
  {
   "cell_type": "code",
   "execution_count": null,
   "id": "b9b59754",
   "metadata": {},
   "outputs": [],
   "source": [
    "dtc.fit(X_15_16, y_15_16)"
   ]
  },
  {
   "cell_type": "code",
   "execution_count": null,
   "id": "587e1d0a",
   "metadata": {},
   "outputs": [],
   "source": [
    "predict_dtc = dtc.predict(X_17)\n",
    "predict_dtc"
   ]
  },
  {
   "cell_type": "code",
   "execution_count": null,
   "id": "70aeaef7",
   "metadata": {},
   "outputs": [],
   "source": [
    "#mariz de confusão\n",
    "t_confusion_matrix = confusion_matrix(y_17, predict_dtc)"
   ]
  },
  {
   "cell_type": "code",
   "execution_count": null,
   "id": "8371fe5e",
   "metadata": {},
   "outputs": [],
   "source": [
    "#acurácia\n",
    "t_accuracy = accuracy_score(y_17, predict_dtc)"
   ]
  },
  {
   "cell_type": "code",
   "execution_count": null,
   "id": "4ad1d019",
   "metadata": {},
   "outputs": [],
   "source": [
    "#precisão\n",
    "t_precision = precision_score(y_17, predict_dtc)"
   ]
  },
  {
   "cell_type": "code",
   "execution_count": null,
   "id": "7d5f2ad3",
   "metadata": {},
   "outputs": [],
   "source": [
    "#Recall\n",
    "t_recall = recall_score(y_17, predict_dtc)"
   ]
  },
  {
   "cell_type": "code",
   "execution_count": null,
   "id": "5359aec2",
   "metadata": {},
   "outputs": [],
   "source": [
    "#comparando os métodos de separação\n",
    "print('Tratamento temporal - Matriz de confusão', t_confusion_matrix)\n",
    "print('Separação randômica - Matriz de confusão', r_confusion_matrix) \n",
    "print('Tratamento temporal - Acurácia', t_accuracy) \n",
    "print('Separação randômica - Acurácia', r_accuracy)\n",
    "print('Tratamento temporal - Precisão', t_precision)\n",
    "print('Separação randômica - Precisão', r_precision)\n",
    "print('Tratamento temporal - recall', t_recall)\n",
    "print('Separação randômica - recall', r_recall)"
   ]
  },
  {
   "cell_type": "markdown",
   "id": "c5dcf821",
   "metadata": {},
   "source": [
    "O método de separação da base de forma aleatória utilizando o train_test_split apresentou melhor resultado.\n",
    "Na matriz de confusão, apesar do valor de verdadeiro positivo ser maior no método utilizando a separação temporal, entretanto, avaliando os valores de verdadeiro negativo, falso negativo e falso positivo, o método de separação da base de dados de forma aleatória mostra-se mais eficiente.\n",
    "Tanto na acurácia, quanto na precisão e recall, o método de separação da base de forma aleatória também obteve melhor resultado, com 84 %, 79 % e 79 % de acerto respectivamente.\n",
    "O resultado pode estar enviesado, já que o modelo elegido foi a arvore de decisão, e, o ponto fraco desse modelo é exatamente apresentar overfitting. A separação da base de dados por ano pode apresentar diferenças no comportamento dos clientes, como sazonalidade e clima, que não são contemplados nas características da base. O qual pode explicar o pior desempenho."
   ]
  },
  {
   "cell_type": "code",
   "execution_count": null,
   "id": "d14d2aa1",
   "metadata": {},
   "outputs": [],
   "source": []
  }
 ],
 "metadata": {
  "kernelspec": {
   "display_name": "Python 3 (ipykernel)",
   "language": "python",
   "name": "python3"
  },
  "language_info": {
   "codemirror_mode": {
    "name": "ipython",
    "version": 3
   },
   "file_extension": ".py",
   "mimetype": "text/x-python",
   "name": "python",
   "nbconvert_exporter": "python",
   "pygments_lexer": "ipython3",
   "version": "3.10.9"
  }
 },
 "nbformat": 4,
 "nbformat_minor": 5
}
